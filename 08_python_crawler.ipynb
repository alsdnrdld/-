{
 "cells": [
  {
   "cell_type": "markdown",
   "metadata": {
    "id": "UsZSmAj47LXm",
    "slideshow": {
     "slide_type": "slide"
    }
   },
   "source": [
    "# **데이터 크롤링**"
   ]
  },
  {
   "cell_type": "markdown",
   "metadata": {
    "id": "qGMeSCoV7QTQ",
    "slideshow": {
     "slide_type": "slide"
    }
   },
   "source": [
    "## **크롤링이란?**\n",
    "> 크롤러(crawler)는 자동화된 방법으로 웹을 탐색하는 컴퓨터 프로그램  \n",
    "'웹 크롤링'(web crawling)??  \n",
    "'데이터 크롤링'(data crawling)!!  "
   ]
  },
  {
   "cell_type": "markdown",
   "metadata": {
    "id": "WboqZ6A47Yqe",
    "slideshow": {
     "slide_type": "slide"
    }
   },
   "source": [
    "우리는 매일 크롤러도 사용하고 있습니다."
   ]
  },
  {
   "cell_type": "markdown",
   "metadata": {
    "id": "5PfW0HG17td5",
    "slideshow": {
     "slide_type": "slide"
    }
   },
   "source": [
    "## **웹 크롤링**\n",
    "> 웹 서비스 내 정보를 수집하는 일\n",
    "\n",
    ">> 필요한 정보가 있다면?  \n",
    "API 확인 -> 없으면 직접 크롤링  \n",
    "    \n",
    "> 다만 서비스 제공자의 입장에서는??"
   ]
  },
  {
   "cell_type": "markdown",
   "metadata": {
    "id": "e0ITGMAN70Da",
    "slideshow": {
     "slide_type": "slide"
    }
   },
   "source": [
    "### 웹 서핑을 하는 의식의 흐름\n",
    "> - 브라우저 오픈  \n",
    "- 원하는 인터넷페이지 주소 입력  \n",
    "- 화면이 열리면 찾고자 하는 정보를 스크롤 하면서 찾기  \n",
    "- 문자, 그림, 동영상 조회  "
   ]
  },
  {
   "cell_type": "markdown",
   "metadata": {
    "id": "AWcggzcG728P",
    "slideshow": {
     "slide_type": "slide"
    }
   },
   "source": [
    "### 웹 크롤링 하는 의식의 흐름\n",
    "> - 정보를 가져오고자 하는 url 정의\n",
    "- url 정보로 requests로 정보 요청\n",
    "- text 정보를 html로 변환\n",
    "- html에서 우리가 필요한 정보만 선별"
   ]
  },
  {
   "cell_type": "markdown",
   "metadata": {
    "id": "XT464CpR75Uh",
    "slideshow": {
     "slide_type": "slide"
    }
   },
   "source": [
    "### 웹 크롤링을 위해 BeautifulSoup 사용\n",
    "> - requests는 요청을 받기는 하지만 text로만 받음  \n",
    "- API는 통신을 위해 정형화 된 데이터 형태의 text  \n",
    "- 우리가 원하는 데이터로 가공하기 위해 편의상 html로 변환  \n",
    "- text를 html로 변환하는 모듈이 beautifulSoup"
   ]
  },
  {
   "cell_type": "markdown",
   "metadata": {
    "id": "5j1oR5fO78FW",
    "slideshow": {
     "slide_type": "slide"
    }
   },
   "source": [
    "### 간단한 데이터 크롤링으로 기본 개념잡기"
   ]
  },
  {
   "cell_type": "code",
   "execution_count": 1,
   "metadata": {
    "ExecuteTime": {
     "end_time": "2021-09-17T02:05:52.295280Z",
     "start_time": "2021-09-17T02:05:52.126825Z"
    }
   },
   "outputs": [],
   "source": [
    "# 필요패키지 import\n",
    "import numpy as np\n",
    "import pandas as pd\n",
    "import requests # 크롤링에 사용하는 패키지\n",
    "from bs4 import BeautifulSoup # html 변환에 사용함"
   ]
  },
  {
   "cell_type": "markdown",
   "metadata": {},
   "source": [
    "#### 네이버 메인페이지 크롤링"
   ]
  },
  {
   "cell_type": "code",
   "execution_count": 2,
   "metadata": {
    "ExecuteTime": {
     "end_time": "2021-09-17T02:05:52.295280Z",
     "start_time": "2021-09-17T02:05:52.126825Z"
    },
    "scrolled": false
   },
   "outputs": [],
   "source": [
    "# 네이버 메인페이지\n",
    "# url정의\n",
    "\n",
    "# requsts로 url에 정보요청\n",
    "\n",
    "\n",
    "# 정보를 html 변환 (보기 쉽게)\n",
    "\n",
    "# html 내에서 우리가 보고 싶은 정보만 선별\n"
   ]
  },
  {
   "cell_type": "markdown",
   "metadata": {},
   "source": [
    "#### 다음 뉴스페이지 크롤링"
   ]
  },
  {
   "cell_type": "code",
   "execution_count": 3,
   "metadata": {
    "ExecuteTime": {
     "end_time": "2021-09-17T02:14:07.684756Z",
     "start_time": "2021-09-17T02:14:07.466864Z"
    }
   },
   "outputs": [],
   "source": [
    "# 다음 뉴스 페이지 크롤링\n",
    "# url정의\n",
    "url='https://naver.com'\n",
    "# requsts로 url에 정보요청\n",
    "request = requests.get(url)\n",
    "\n",
    "# 정보를 html 변환 (보기 쉽게)\n",
    "html = BeautifulSoup(request.text,'html.parser')\n",
    "# html 내에서 뉴스헤더 선별\n"
   ]
  },
  {
   "cell_type": "code",
   "execution_count": 4,
   "metadata": {
    "scrolled": true
   },
   "outputs": [],
   "source": [
    "# request.text"
   ]
  },
  {
   "cell_type": "code",
   "execution_count": 5,
   "metadata": {},
   "outputs": [],
   "source": [
    "# html.select('img')"
   ]
  },
  {
   "cell_type": "code",
   "execution_count": null,
   "metadata": {
    "ExecuteTime": {
     "end_time": "2021-09-17T02:42:29.390354Z",
     "start_time": "2021-09-17T02:42:29.385004Z"
    },
    "scrolled": true
   },
   "outputs": [],
   "source": []
  },
  {
   "cell_type": "markdown",
   "metadata": {
    "id": "leESHsnF8kMy",
    "slideshow": {
     "slide_type": "slide"
    }
   },
   "source": [
    "### 실제 개발자가 작성한 코드로 확인된다\n",
    "> 정제되지 않은 데이터로 가독성이 좋지 않음  \n",
    "우리는 이 중에서 우리가 원하는 정보를 선별해서 가져오는 작업을 진행합니다.  \n",
    "그러기에 html의 기본 구성을 살펴보도록 하겠습니다.  "
   ]
  },
  {
   "cell_type": "markdown",
   "metadata": {
    "id": "ijN26CQi8oSa",
    "slideshow": {
     "slide_type": "slide"
    }
   },
   "source": [
    "#### 웹 페이지의 구성\n",
    "> **HTML(Hyper Text Markup Language)**  \n",
    "www 를 구성하는데 사용하는 국제표준 언어로서 컨텐츠와 레이아웃을 담고 있다\n",
    "\n",
    "> **<태그>** 내용 **</태그>**  \n",
    "<tag이름 class=\"class이름1 class이름2\" id=\"주민번호\" href=\"주소\"></tag이름>\n",
    "\n",
    "> 형태나 속성을 묘사하기 위한 구조적 언어 : HTML, CSS (계층이 있음)  \n",
    "웹의 작동 및 제어를 위한 프로그래밍 언어 :  Js"
   ]
  },
  {
   "cell_type": "markdown",
   "metadata": {
    "id": "7caqQS1q8xE9",
    "slideshow": {
     "slide_type": "slide"
    }
   },
   "source": [
    "#### 셀렉터\n",
    "> 용도 : html에서 내가 원하는 내용을 찾아내기 위해서  \n",
    "<span class=\"news\" id=\"1234\">비비고 왕교자</span>\n",
    "\n",
    ">> 단일 셀렉터  \n",
    "html.select('span')  # 태그 이름이 span인 친구들을 다 들고옴  \n",
    "tag : span  \n",
    "class(별명, 그룹명) : .news\n",
    "\n",
    ">> 클래스 포함 셀렉터\n",
    "html.select('span.news')\n",
    "\n",
    ">> id 포함 셀렉터\n",
    "id(고유값) : #1234\n",
    "html.select('span#1234')"
   ]
  },
  {
   "cell_type": "markdown",
   "metadata": {
    "id": "U-JjMflT80sS",
    "slideshow": {
     "slide_type": "slide"
    }
   },
   "source": [
    "#### 복합 셀렉터\n",
    "    1. 조합 셀렉터\n",
    "    <span>1</span>\n",
    "    <span class=\"txt\">2</span>\n",
    "    <em class=\"txt\">3</em>\n",
    "    \n",
    "    태그 이름이 span이고 클래스 이름은 txt인 라인을 찾고 싶다. : span.txt \n",
    "    li 태그 중에서 id가 name 인 라인을 찾고\\ 싶다. : li#name\n",
    "\n",
    "    2. 경로 셀렉터\n",
    "    \n",
    "    <ul>\n",
    "        <li><span>이걸 찾으려면?</span></li>\n",
    "    </ul>\n",
    "    <span>이건 아님</span>\n",
    "\n",
    "    ul 태그안 li 태그 안 span 라인을 찾는다\n",
    "    ul > li > span 혹은 ul li span"
   ]
  },
  {
   "cell_type": "code",
   "execution_count": 6,
   "metadata": {
    "ExecuteTime": {
     "end_time": "2021-09-17T04:34:11.910831Z",
     "start_time": "2021-09-17T04:34:11.907953Z"
    }
   },
   "outputs": [],
   "source": [
    "import time"
   ]
  },
  {
   "cell_type": "code",
   "execution_count": 8,
   "metadata": {
    "ExecuteTime": {
     "end_time": "2021-09-17T04:36:56.906592Z",
     "start_time": "2021-09-17T04:36:45.352892Z"
    }
   },
   "outputs": [
    {
     "name": "stdout",
     "output_type": "stream",
     "text": [
      "드라마 제목을 입력하세요사이코지만 괜찮아\n"
     ]
    }
   ],
   "source": [
    "# 슬의생 드라마소개 크롤링\n",
    "k = input('드라마 제목을 입력하세요')\n",
    "# requsts로 url에 정보요청\n",
    "url = f'https://search.naver.com/search.naver?where=nexearch&sm=top_hty&fbm=1&ie=utf8&query={k}'\n",
    "# 정보를 html 변환 (보기 쉽게)\n",
    "resp = requests.get(url)\n",
    "html = BeautifulSoup(resp.text,'html.parser')\n",
    "# html 내에서 우리가 보고 싶은 정보만 선별"
   ]
  },
  {
   "cell_type": "code",
   "execution_count": 9,
   "metadata": {
    "ExecuteTime": {
     "end_time": "2021-09-17T05:09:38.607132Z",
     "start_time": "2021-09-17T05:09:38.072909Z"
    },
    "scrolled": false
   },
   "outputs": [
    {
     "data": {
      "text/plain": [
       "[<span class=\"desc _text\">버거운 삶의 무게로 사랑을 거부하는 정신 병동 보호사 강태와 태생적 결함으로 사랑을 모르는 동화 작가 문영이 서로의 상처를 보듬고 치유해가는 한 편의 판타지 동화 같은 사랑에 관한 조금 이상한 로맨틱 코미디</span>,\n",
       " <span class=\"desc\">2022.01.02.</span>,\n",
       " <span class=\"desc\">2021.04.13.</span>,\n",
       " <span class=\"desc\">2020.11.18.</span>]"
      ]
     },
     "execution_count": 9,
     "metadata": {},
     "output_type": "execute_result"
    }
   ],
   "source": [
    "\n",
    "html.select('span.desc') # <- list 타입으로 html을 담아온다"
   ]
  },
  {
   "cell_type": "code",
   "execution_count": 10,
   "metadata": {},
   "outputs": [
    {
     "data": {
      "text/plain": [
       "'버거운 삶의 무게로 사랑을 거부하는 정신 병동 보호사 강태와 태생적 결함으로 사랑을 모르는 동화 작가 문영이 서로의 상처를 보듬고 치유해가는 한 편의 판타지 동화 같은 사랑에 관한 조금 이상한 로맨틱 코미디'"
      ]
     },
     "execution_count": 10,
     "metadata": {},
     "output_type": "execute_result"
    }
   ],
   "source": [
    "html.select('span.desc')[0].text"
   ]
  },
  {
   "cell_type": "code",
   "execution_count": 11,
   "metadata": {},
   "outputs": [
    {
     "name": "stdout",
     "output_type": "stream",
     "text": [
      "드라마 제목을 입력하세요\n"
     ]
    }
   ],
   "source": [
    "# 해당 드라마 블로그 헤더 텍스트 크롤링\n",
    "# 슬의생 드라마소개 크롤링\n",
    "# requsts로 url에 정보요청\n",
    "k = input('드라마 제목을 입력하세요')\n",
    "url = f'https://search.naver.com/search.naver?where=nexearch&sm=top_hty&fbm=1&ie=utf8&query={k}'\n",
    "# 정보를 html 변환 (보기 쉽게)\n",
    "resp = requests.get(url)\n",
    "html = BeautifulSoup(resp.text,'html.parser')\n",
    "# html 내에서 우리가 보고 싶은 정보만 선별"
   ]
  },
  {
   "cell_type": "code",
   "execution_count": 12,
   "metadata": {
    "scrolled": true
   },
   "outputs": [
    {
     "data": {
      "text/plain": [
       "[]"
      ]
     },
     "execution_count": 12,
     "metadata": {},
     "output_type": "execute_result"
    }
   ],
   "source": [
    "html.select('a.total_tit')"
   ]
  },
  {
   "cell_type": "code",
   "execution_count": 13,
   "metadata": {},
   "outputs": [],
   "source": [
    "for i in html.select('a.total_tit'):\n",
    "    print(i.text)"
   ]
  },
  {
   "cell_type": "markdown",
   "metadata": {},
   "source": [
    "## 다음에서 로또번호 가져오기"
   ]
  },
  {
   "cell_type": "code",
   "execution_count": 14,
   "metadata": {},
   "outputs": [],
   "source": [
    "#div.lottonum"
   ]
  },
  {
   "cell_type": "code",
   "execution_count": 15,
   "metadata": {
    "ExecuteTime": {
     "end_time": "2021-09-17T05:32:20.587620Z",
     "start_time": "2021-09-17T05:32:20.580519Z"
    }
   },
   "outputs": [],
   "source": [
    "# url 설정\n",
    "url = 'https://search.daum.net/search?w=tot&DA=YZR&t__nil_searchbox=btn&sug=&sugo=&sq=&o=&q=%EB%A1%9C%EB%98%90%EB%B2%88%ED%98%B8'\n",
    "# requests로 데이터 요청하기\n",
    "resp = requests.get(url)\n",
    "# html로 변환\n",
    "html=BeautifulSoup(resp.text,'html.parser')\n",
    "# 데이터 선별\n"
   ]
  },
  {
   "cell_type": "code",
   "execution_count": 16,
   "metadata": {
    "scrolled": true
   },
   "outputs": [
    {
     "data": {
      "text/plain": [
       "<span class=\"ball bg_ball2\">16</span>"
      ]
     },
     "execution_count": 16,
     "metadata": {},
     "output_type": "execute_result"
    }
   ],
   "source": [
    "html.select('span.ball')[3]"
   ]
  },
  {
   "cell_type": "code",
   "execution_count": null,
   "metadata": {},
   "outputs": [],
   "source": []
  },
  {
   "cell_type": "code",
   "execution_count": 17,
   "metadata": {},
   "outputs": [
    {
     "name": "stdout",
     "output_type": "stream",
     "text": [
      "4\n",
      "7\n",
      "14\n",
      "16\n",
      "24\n",
      "44\n"
     ]
    }
   ],
   "source": [
    "\n",
    "for i in html.select('span.ball')[:6]:\n",
    "    print(i.text)"
   ]
  },
  {
   "cell_type": "code",
   "execution_count": 18,
   "metadata": {},
   "outputs": [
    {
     "data": {
      "text/plain": [
       "['4', '7', '14', '16', '24', '44']"
      ]
     },
     "execution_count": 18,
     "metadata": {},
     "output_type": "execute_result"
    }
   ],
   "source": [
    "lotto =[i.text for i in html.select('span.ball')[:6]]\n",
    "lotto"
   ]
  },
  {
   "cell_type": "code",
   "execution_count": 19,
   "metadata": {
    "scrolled": false
   },
   "outputs": [
    {
     "data": {
      "text/plain": [
       "' 4 7 14 16 24 44 보너스 20 '"
      ]
     },
     "execution_count": 19,
     "metadata": {},
     "output_type": "execute_result"
    }
   ],
   "source": [
    "html.select('div.lottonum')[0].text"
   ]
  },
  {
   "cell_type": "code",
   "execution_count": 20,
   "metadata": {},
   "outputs": [
    {
     "name": "stdout",
     "output_type": "stream",
     "text": [
      " 4 7 14 16 24 44 보너스 20 \n"
     ]
    }
   ],
   "source": [
    "for i in html.select('div.lottonum'):\n",
    "    print(i.text)"
   ]
  },
  {
   "cell_type": "markdown",
   "metadata": {},
   "source": [
    "## 다음에서 로또번호 가져와 볼께요 몽땅 다 가져옵니다"
   ]
  },
  {
   "cell_type": "code",
   "execution_count": null,
   "metadata": {},
   "outputs": [],
   "source": []
  },
  {
   "cell_type": "code",
   "execution_count": 21,
   "metadata": {},
   "outputs": [],
   "source": [
    "#num = [a for a in range(900,998)]\n",
    "num=[a for a in range(900,938)]"
   ]
  },
  {
   "cell_type": "code",
   "execution_count": 22,
   "metadata": {
    "ExecuteTime": {
     "end_time": "2021-09-17T05:45:45.733830Z",
     "start_time": "2021-09-17T05:45:23.489576Z"
    }
   },
   "outputs": [],
   "source": [
    "# url 설정\n",
    "url = f'https://search.daum.net/search?w=tot&DA=LOT&rtmaxcoll=LOT&&q={num}'\n",
    "# requests로 데이터 요청하기\n",
    "\n",
    "# html로 변환\n",
    "\n",
    "# 데이터 선별\n"
   ]
  },
  {
   "cell_type": "code",
   "execution_count": 23,
   "metadata": {},
   "outputs": [],
   "source": [
    "import time"
   ]
  },
  {
   "cell_type": "code",
   "execution_count": 118,
   "metadata": {},
   "outputs": [
    {
     "name": "stdout",
     "output_type": "stream",
     "text": [
      "900회차 크롤링 중이라구욧\n",
      "901회차 크롤링 중이라구욧\n",
      "902회차 크롤링 중이라구욧\n",
      "903회차 크롤링 중이라구욧\n",
      "904회차 크롤링 중이라구욧\n",
      "905회차 크롤링 중이라구욧\n",
      "906회차 크롤링 중이라구욧\n",
      "907회차 크롤링 중이라구욧\n",
      "908회차 크롤링 중이라구욧\n",
      "909회차 크롤링 중이라구욧\n",
      "910회차 크롤링 중이라구욧\n",
      "911회차 크롤링 중이라구욧\n",
      "912회차 크롤링 중이라구욧\n",
      "913회차 크롤링 중이라구욧\n",
      "914회차 크롤링 중이라구욧\n",
      "915회차 크롤링 중이라구욧\n",
      "916회차 크롤링 중이라구욧\n",
      "917회차 크롤링 중이라구욧\n",
      "918회차 크롤링 중이라구욧\n",
      "919회차 크롤링 중이라구욧\n",
      "920회차 크롤링 중이라구욧\n",
      "921회차 크롤링 중이라구욧\n",
      "922회차 크롤링 중이라구욧\n",
      "923회차 크롤링 중이라구욧\n",
      "924회차 크롤링 중이라구욧\n",
      "925회차 크롤링 중이라구욧\n",
      "926회차 크롤링 중이라구욧\n",
      "927회차 크롤링 중이라구욧\n",
      "928회차 크롤링 중이라구욧\n",
      "929회차 크롤링 중이라구욧\n",
      "930회차 크롤링 중이라구욧\n",
      "931회차 크롤링 중이라구욧\n",
      "932회차 크롤링 중이라구욧\n",
      "933회차 크롤링 중이라구욧\n",
      "934회차 크롤링 중이라구욧\n",
      "935회차 크롤링 중이라구욧\n",
      "936회차 크롤링 중이라구욧\n",
      "937회차 크롤링 중이라구욧\n",
      "크롤링 끝~\n"
     ]
    }
   ],
   "source": [
    "lotto2=[]\n",
    "for i in num:\n",
    "    time.sleep(2)\n",
    "    print(f'{i}회차 크롤링 중이라구욧')\n",
    "    url = f'https://search.daum.net/search?w=tot&DA=LOT&rtmaxcoll=LOT&&q={i}회차%20로또'\n",
    "    resp = requests.get(url)\n",
    "    html=BeautifulSoup(resp.text,'html.parser')\n",
    "    lotto =[i.text for i in html.select('span.ball')[:6]]\n",
    "    lotto2.append(lotto)\n",
    "print('크롤링 끝~')\n"
   ]
  },
  {
   "cell_type": "code",
   "execution_count": 119,
   "metadata": {
    "ExecuteTime": {
     "end_time": "2021-09-17T05:46:06.821213Z",
     "start_time": "2021-09-17T05:46:06.813058Z"
    }
   },
   "outputs": [
    {
     "data": {
      "text/plain": [
       "[['7', '13', '16', '18', '35', '38'],\n",
       " ['5', '18', '20', '23', '30', '34'],\n",
       " ['7', '19', '23', '24', '36', '39'],\n",
       " ['2', '15', '16', '21', '22', '28'],\n",
       " ['2', '6', '8', '26', '43', '45'],\n",
       " ['3', '4', '16', '27', '38', '40'],\n",
       " ['2', '5', '14', '28', '31', '32'],\n",
       " ['21', '27', '29', '38', '40', '44'],\n",
       " ['3', '16', '21', '22', '23', '44'],\n",
       " ['7', '24', '29', '30', '34', '35'],\n",
       " ['1', '11', '17', '27', '35', '39'],\n",
       " ['4', '5', '12', '14', '32', '42'],\n",
       " ['5', '8', '18', '21', '22', '38'],\n",
       " ['6', '14', '16', '21', '27', '37'],\n",
       " ['16', '19', '24', '33', '42', '44'],\n",
       " ['2', '6', '11', '13', '22', '37'],\n",
       " ['6', '21', '22', '32', '35', '36'],\n",
       " ['1', '3', '23', '24', '27', '43'],\n",
       " ['7', '11', '12', '31', '33', '38'],\n",
       " ['9', '14', '17', '18', '42', '44'],\n",
       " ['2', '3', '26', '33', '34', '43'],\n",
       " ['5', '7', '12', '22', '28', '41'],\n",
       " ['2', '6', '13', '17', '27', '43'],\n",
       " ['3', '17', '18', '23', '36', '41'],\n",
       " ['3', '11', '34', '42', '43', '44'],\n",
       " ['13', '24', '32', '34', '39', '42'],\n",
       " ['10', '16', '18', '20', '25', '31'],\n",
       " ['4', '15', '22', '38', '41', '43'],\n",
       " ['3', '4', '10', '20', '28', '44'],\n",
       " ['7', '9', '12', '15', '19', '23'],\n",
       " ['8', '21', '25', '38', '39', '44'],\n",
       " ['14', '15', '23', '25', '35', '43'],\n",
       " ['1', '6', '15', '36', '37', '38'],\n",
       " ['23', '27', '29', '31', '36', '45'],\n",
       " ['1', '3', '30', '33', '36', '39'],\n",
       " ['4', '10', '20', '32', '38', '44'],\n",
       " ['7', '11', '13', '17', '18', '29'],\n",
       " ['2', '10', '13', '22', '29', '40']]"
      ]
     },
     "execution_count": 119,
     "metadata": {},
     "output_type": "execute_result"
    }
   ],
   "source": [
    "lotto2"
   ]
  },
  {
   "cell_type": "code",
   "execution_count": 120,
   "metadata": {
    "ExecuteTime": {
     "end_time": "2021-09-17T06:03:34.219100Z",
     "start_time": "2021-09-17T06:03:33.856448Z"
    }
   },
   "outputs": [],
   "source": [
    "# 데이터 시각화까지\n",
    "lotto_array = np.array(lotto2).reshape(-1)"
   ]
  },
  {
   "cell_type": "code",
   "execution_count": 121,
   "metadata": {},
   "outputs": [
    {
     "data": {
      "text/plain": [
       "array(['7', '13', '16', '18', '35', '38', '5', '18', '20', '23', '30',\n",
       "       '34', '7', '19', '23', '24', '36', '39', '2', '15', '16', '21',\n",
       "       '22', '28', '2', '6', '8', '26', '43', '45', '3', '4', '16', '27',\n",
       "       '38', '40', '2', '5', '14', '28', '31', '32', '21', '27', '29',\n",
       "       '38', '40', '44', '3', '16', '21', '22', '23', '44', '7', '24',\n",
       "       '29', '30', '34', '35', '1', '11', '17', '27', '35', '39', '4',\n",
       "       '5', '12', '14', '32', '42', '5', '8', '18', '21', '22', '38', '6',\n",
       "       '14', '16', '21', '27', '37', '16', '19', '24', '33', '42', '44',\n",
       "       '2', '6', '11', '13', '22', '37', '6', '21', '22', '32', '35',\n",
       "       '36', '1', '3', '23', '24', '27', '43', '7', '11', '12', '31',\n",
       "       '33', '38', '9', '14', '17', '18', '42', '44', '2', '3', '26',\n",
       "       '33', '34', '43', '5', '7', '12', '22', '28', '41', '2', '6', '13',\n",
       "       '17', '27', '43', '3', '17', '18', '23', '36', '41', '3', '11',\n",
       "       '34', '42', '43', '44', '13', '24', '32', '34', '39', '42', '10',\n",
       "       '16', '18', '20', '25', '31', '4', '15', '22', '38', '41', '43',\n",
       "       '3', '4', '10', '20', '28', '44', '7', '9', '12', '15', '19', '23',\n",
       "       '8', '21', '25', '38', '39', '44', '14', '15', '23', '25', '35',\n",
       "       '43', '1', '6', '15', '36', '37', '38', '23', '27', '29', '31',\n",
       "       '36', '45', '1', '3', '30', '33', '36', '39', '4', '10', '20',\n",
       "       '32', '38', '44', '7', '11', '13', '17', '18', '29', '2', '10',\n",
       "       '13', '22', '29', '40'], dtype='<U2')"
      ]
     },
     "execution_count": 121,
     "metadata": {},
     "output_type": "execute_result"
    }
   ],
   "source": [
    "lotto_array"
   ]
  },
  {
   "cell_type": "code",
   "execution_count": 123,
   "metadata": {},
   "outputs": [
    {
     "name": "stderr",
     "output_type": "stream",
     "text": [
      "C:\\ProgramData\\Anaconda3\\lib\\site-packages\\seaborn\\_decorators.py:36: FutureWarning: Pass the following variable as a keyword arg: x. From version 0.12, the only valid positional argument will be `data`, and passing other arguments without an explicit keyword will result in an error or misinterpretation.\n",
      "  warnings.warn(\n"
     ]
    },
    {
     "data": {
      "image/png": "[encoded data removed]",
      "text/plain": [
       "<Figure size 1080x720 with 1 Axes>"
      ]
     },
     "metadata": {
      "needs_background": "light"
     },
     "output_type": "display_data"
    }
   ],
   "source": [
    "import seaborn as sns\n",
    "import matplotlib.pyplot as plt\n",
    "plt.figure(figsize=(15,10))\n",
    "sns.countplot(lotto_array)\n",
    "plt.show()"
   ]
  },
  {
   "cell_type": "code",
   "execution_count": 124,
   "metadata": {},
   "outputs": [
    {
     "data": {
      "text/plain": [
       "<Response [200]>"
      ]
     },
     "execution_count": 124,
     "metadata": {},
     "output_type": "execute_result"
    }
   ],
   "source": [
    "resp"
   ]
  },
  {
   "cell_type": "code",
   "execution_count": 50,
   "metadata": {
    "ExecuteTime": {
     "end_time": "2021-02-03T05:41:05.583999Z",
     "start_time": "2021-02-03T05:41:05.579960Z"
    }
   },
   "outputs": [
    {
     "data": {
      "text/plain": [
       "200"
      ]
     },
     "execution_count": 50,
     "metadata": {},
     "output_type": "execute_result"
    }
   ],
   "source": [
    "requests.codes.ok\n",
    "# 100 우리 이런정보 내주는거야\n",
    "# 200 성공\n",
    "# 300 우리 이 사이트 이리루 이사했어 일루가\n",
    "# 400 유저가 요청을 잘못한경우\n",
    "# 500 서버 문제"
   ]
  },
  {
   "cell_type": "code",
   "execution_count": 126,
   "metadata": {},
   "outputs": [
    {
     "name": "stdout",
     "output_type": "stream",
     "text": [
      "실험중\n",
      "실험중\n",
      "실험중\n",
      "실험중\n"
     ]
    }
   ],
   "source": [
    "# 차단막는 코드\n",
    "for i in range(4):\n",
    "    seed = np.random.randint(100)\n",
    "    np.random.seed(seed)\n",
    "    a = np.random.randint(5)\n",
    "    time.sleep(a)\n",
    "    print('실험중')"
   ]
  },
  {
   "cell_type": "code",
   "execution_count": null,
   "metadata": {},
   "outputs": [],
   "source": [
    "seed = np.random.randint(100)\n",
    "np.random.seed(seed)\n",
    "a = np.random.randint(5)\n",
    "time.sleep(a)"
   ]
  },
  {
   "cell_type": "markdown",
   "metadata": {
    "id": "L--NnRPK9LAN",
    "slideshow": {
     "slide_type": "slide"
    }
   },
   "source": [
    "## **네이버 키워드로 검색한 결과를 크롤링(속성 접근)**"
   ]
  },
  {
   "cell_type": "code",
   "execution_count": 24,
   "metadata": {
    "ExecuteTime": {
     "end_time": "2021-09-17T06:25:03.059504Z",
     "start_time": "2021-09-17T06:24:56.730548Z"
    }
   },
   "outputs": [
    {
     "name": "stdout",
     "output_type": "stream",
     "text": [
      "내용을 입력하세요 : 이지스 건담\n",
      "[MG] 이지스 건담-3 https://blog.naver.com/chgood123/222524063965\n",
      "반다이 기동전사 건담 Seed Advanced MS in Action 08 GAT-X303 이지스 건담 피규어 https://blog.naver.com/surplus2050/222611957585\n",
      "MG 1/100 기동전사 건담 SEED - 이지스 건담 디액티브 모드 ver 도색 리뷰! https://blog.naver.com/godknowsyou/222396465847\n",
      "[FW 건담 컨버지] #21탄 249 이지스 건담 https://blog.naver.com/pgonta/222472106961\n",
      "PS4 뉴 건담 브레이커 티저 영상 공개 https://post.naver.com/viewer/postView.nhn?volumeNo=12230985&memberNo=1966129&vType=VERTICAL\n",
      "컨버지 249 이지스 건담 리뷰 및 MA 모드 마개조 https://cafe.naver.com/gcd/1036639\n",
      "[SDW 히어로즈 외전] 워록 이지스 건담 [2022/3분기][미정] https://blog.naver.com/besson13h/222583279379\n",
      "시리즈 MS 전원 기동! 모바일게임 ‘건담 슈프림 배틀’ 양대 마켓 출시 https://post.naver.com/viewer/postView.nhn?volumeNo=31773434&memberNo=6258463&vType=VERTICAL\n"
     ]
    }
   ],
   "source": [
    "\n",
    "keyword = input('내용을 입력하세요 : ')\n",
    "\n",
    "url = f'https://search.naver.com/search.naver?where=nexearch&sm=top_hty&fbm=1&ie=utf8&query={keyword}'\n",
    "\n",
    "resp = requests.get(url)\n",
    "html = BeautifulSoup(resp.text,'html.parser')\n",
    "for i in html.select('a.total_tit'):\n",
    "    print(i.text, i.attrs['href'])"
   ]
  },
  {
   "cell_type": "markdown",
   "metadata": {
    "id": "P_ssRYoV88a7",
    "slideshow": {
     "slide_type": "slide"
    }
   },
   "source": [
    "    가져온 데이터에 접근을 하는 방식 자체는 판다스 색인처럼 결과값을 확인하며 진행하는 것이 가장 좋습니다."
   ]
  },
  {
   "cell_type": "markdown",
   "metadata": {
    "ExecuteTime": {
     "end_time": "2021-09-27T00:05:01.376165Z",
     "start_time": "2021-09-27T00:05:01.368066Z"
    }
   },
   "source": [
    "#### 관심있는 개별종목의 시가총액, 외국인 소진률, PER, PBR 가져오기"
   ]
  },
  {
   "cell_type": "code",
   "execution_count": 25,
   "metadata": {
    "ExecuteTime": {
     "end_time": "2021-09-27T00:30:39.851651Z",
     "start_time": "2021-09-27T00:30:39.758248Z"
    },
    "scrolled": false
   },
   "outputs": [
    {
     "name": "stdout",
     "output_type": "stream",
     "text": [
      "시가 총액 :  471조158\n",
      "외국인 소진률 :  52.15%\n",
      "PER :  15.29\n",
      "PBR :  5,159\n"
     ]
    }
   ],
   "source": [
    "# url 정의\n",
    "code = '005930'\n",
    "url = f'https://finance.naver.com/item/main.naver?code={code}'\n",
    "# requests 요청\n",
    "resp = requests.get(url)\n",
    "\n",
    "# html 변환 외국인소진률 \n",
    "html = BeautifulSoup(resp.text,'html.parser')\n",
    "print('시가 총액 : ',html.select('em#_market_sum')[0].text.replace('\\t','').strip().replace('\\n',''))\n",
    "print('외국인 소진률 : ',html.select('table.lwidth td em')[2].text)\n",
    "print('PER : ',html.select('em#_per')[0].text)\n",
    "print('PBR : ',html.select('em#_eps')[0].text)\n",
    "# 시가총액, 외국인 소진률, PER, PBR\n"
   ]
  },
  {
   "cell_type": "code",
   "execution_count": 26,
   "metadata": {},
   "outputs": [
    {
     "data": {
      "text/plain": [
       "'471조158'"
      ]
     },
     "execution_count": 26,
     "metadata": {},
     "output_type": "execute_result"
    }
   ],
   "source": [
    "html.select('em#_market_sum')[0].text.replace('\\t','').strip().replace('\\n','')"
   ]
  },
  {
   "cell_type": "code",
   "execution_count": 27,
   "metadata": {
    "scrolled": true
   },
   "outputs": [
    {
     "name": "stdout",
     "output_type": "stream",
     "text": [
      "PER :  [<em id=\"_per\">15.29</em>]\n",
      "EPS :  [<em id=\"_eps\">5,159</em>]\n"
     ]
    }
   ],
   "source": [
    "print('PER : ', html.select('em#_per'))\n",
    "print('EPS : ', html.select('em#_eps'))\n"
   ]
  },
  {
   "cell_type": "code",
   "execution_count": 28,
   "metadata": {},
   "outputs": [
    {
     "name": "stdout",
     "output_type": "stream",
     "text": [
      "시가 총액 :  1,049\n",
      "외국인 소진률 :  1.09%\n",
      "PER :  19.13\n",
      "PBR :  389\n"
     ]
    }
   ],
   "source": [
    "url ='https://finance.naver.com/item/main.naver?code=149980'\n",
    "resp = requests.get(url)\n",
    "html = BeautifulSoup(resp.text,'html.parser')\n",
    "print('시가 총액 : ',html.select('em#_market_sum')[0].text.replace('\\t','').strip().replace('\\n',''))\n",
    "print('외국인 소진률 : ',html.select('table.lwidth td em')[2].text)\n",
    "print('PER : ',html.select('em#_per')[0].text)\n",
    "print('PBR : ',html.select('em#_eps')[0].text)"
   ]
  },
  {
   "cell_type": "code",
   "execution_count": 29,
   "metadata": {},
   "outputs": [
    {
     "data": {
      "text/plain": [
       "'1,049'"
      ]
     },
     "execution_count": 29,
     "metadata": {},
     "output_type": "execute_result"
    }
   ],
   "source": [
    "html.select('em#_market_sum')[0].text.strip()"
   ]
  },
  {
   "cell_type": "code",
   "execution_count": null,
   "metadata": {},
   "outputs": [],
   "source": []
  },
  {
   "cell_type": "code",
   "execution_count": null,
   "metadata": {},
   "outputs": [],
   "source": []
  },
  {
   "cell_type": "markdown",
   "metadata": {},
   "source": [
    "#### 여러 종목의 시가총액, 외국인 소진률, PER, PBR 한꺼번에 가져오기"
   ]
  },
  {
   "cell_type": "code",
   "execution_count": 30,
   "metadata": {
    "ExecuteTime": {
     "end_time": "2021-09-27T00:52:30.940704Z",
     "start_time": "2021-09-27T00:52:27.088491Z"
    }
   },
   "outputs": [],
   "source": [
    "# 종목리스트 정의\n",
    "\n",
    "# url 정의\n",
    "\n",
    "# requests 요청\n",
    "\n",
    "# html 변환\n",
    "\n",
    "# 데이터 선별\n"
   ]
  },
  {
   "cell_type": "code",
   "execution_count": null,
   "metadata": {
    "ExecuteTime": {
     "end_time": "2021-09-27T00:52:31.106062Z",
     "start_time": "2021-09-27T00:52:31.101316Z"
    }
   },
   "outputs": [],
   "source": []
  },
  {
   "cell_type": "code",
   "execution_count": 31,
   "metadata": {
    "ExecuteTime": {
     "end_time": "2021-09-27T00:53:55.646061Z",
     "start_time": "2021-09-27T00:53:55.619928Z"
    }
   },
   "outputs": [],
   "source": [
    "# 데이터프레임 제작\n"
   ]
  },
  {
   "cell_type": "markdown",
   "metadata": {
    "id": "XYhXePUPB7FF",
    "slideshow": {
     "slide_type": "slide"
    }
   },
   "source": [
    "## **동적페이지 크롤링**\n",
    "> 최근에는 Js로 변경이 되며 일반적인 크롤링이 되지 않는 경우가 많음  \n",
    "동적페이지와 숨겨진 url을 가져오는 방법을 알아봅니다"
   ]
  },
  {
   "cell_type": "markdown",
   "metadata": {},
   "source": [
    "### 네이버 주식 시세 데이터 크롤링"
   ]
  },
  {
   "cell_type": "code",
   "execution_count": 32,
   "metadata": {
    "ExecuteTime": {
     "end_time": "2021-09-27T04:40:51.702675Z",
     "start_time": "2021-09-27T04:40:51.640301Z"
    }
   },
   "outputs": [],
   "source": [
    "# 동적페이지의 숨은 URL\n",
    "# 동적페이지에 요청을 할 때 웹 정책에 필요한 정보를 같이 전달을 해줘야 함.\n",
    "# requests 요청시에 헤더정보 추가\n",
    "url='https://finance.naver.com/item/sise_day.naver?code=149980&page=2'\n",
    "\n",
    "info ={'referer' : 'https://finance.naver.com/item/sise_day.naver?code=149980',\n",
    "       'user-agent': 'Mozilla/5.0 (Windows NT 10.0; Win64; x64) AppleWebKit/537.36 (KHTML, like Gecko) Chrome/97.0.4692.71 Safari/537.36'\n",
    "      }\n",
    "\n",
    "resp = requests.get(url,headers=info)"
   ]
  },
  {
   "cell_type": "code",
   "execution_count": 33,
   "metadata": {},
   "outputs": [
    {
     "data": {
      "text/plain": [
       "<Response [200]>"
      ]
     },
     "execution_count": 33,
     "metadata": {},
     "output_type": "execute_result"
    }
   ],
   "source": [
    "resp"
   ]
  },
  {
   "cell_type": "code",
   "execution_count": 34,
   "metadata": {},
   "outputs": [],
   "source": [
    "html =BeautifulSoup(resp.text,'html.parser')"
   ]
  },
  {
   "cell_type": "code",
   "execution_count": 35,
   "metadata": {
    "scrolled": true
   },
   "outputs": [
    {
     "data": {
      "text/plain": [
       "['2021.12.27',\n",
       " '8,070',\n",
       " '0',\n",
       " '8,010',\n",
       " '8,220',\n",
       " '7,870',\n",
       " '662,204',\n",
       " '2021.12.24',\n",
       " '8,070',\n",
       " '470',\n",
       " '8,610',\n",
       " '8,880',\n",
       " '8,010',\n",
       " '1,598,697',\n",
       " '2021.12.23',\n",
       " '8,540',\n",
       " '160',\n",
       " '8,700',\n",
       " '8,760',\n",
       " '8,520',\n",
       " '1,272,643',\n",
       " '2021.12.22',\n",
       " '8,700',\n",
       " '1,350',\n",
       " '7,390',\n",
       " '9,350',\n",
       " '7,310',\n",
       " '9,952,575',\n",
       " '2021.12.21',\n",
       " '7,350',\n",
       " '60',\n",
       " '7,300',\n",
       " '8,140',\n",
       " '7,150',\n",
       " '1,986,840',\n",
       " '2021.12.20',\n",
       " '7,290',\n",
       " '220',\n",
       " '7,070',\n",
       " '7,340',\n",
       " '6,900',\n",
       " '224,526',\n",
       " '2021.12.17',\n",
       " '7,070',\n",
       " '120',\n",
       " '7,220',\n",
       " '7,220',\n",
       " '6,970',\n",
       " '168,447',\n",
       " '2021.12.16',\n",
       " '7,190',\n",
       " '10',\n",
       " '7,180',\n",
       " '7,330',\n",
       " '7,140',\n",
       " '161,087',\n",
       " '2021.12.15',\n",
       " '7,180',\n",
       " '110',\n",
       " '7,290',\n",
       " '7,640',\n",
       " '7,160',\n",
       " '389,178',\n",
       " '2021.12.14',\n",
       " '7,290',\n",
       " '210',\n",
       " '7,340',\n",
       " '7,420',\n",
       " '7,200',\n",
       " '242,689']"
      ]
     },
     "execution_count": 35,
     "metadata": {},
     "output_type": "execute_result"
    }
   ],
   "source": [
    "#tah p10 gray03\n",
    "data = [item.text.strip() for item in html.select('span.tah')]\n",
    "data"
   ]
  },
  {
   "cell_type": "code",
   "execution_count": 36,
   "metadata": {},
   "outputs": [
    {
     "data": {
      "text/plain": [
       "array(['2021.12.27', '8,070', '0', '8,010', '8,220', '7,870', '662,204',\n",
       "       '2021.12.24', '8,070', '470', '8,610', '8,880', '8,010',\n",
       "       '1,598,697', '2021.12.23', '8,540', '160', '8,700', '8,760',\n",
       "       '8,520', '1,272,643', '2021.12.22', '8,700', '1,350', '7,390',\n",
       "       '9,350', '7,310', '9,952,575', '2021.12.21', '7,350', '60',\n",
       "       '7,300', '8,140', '7,150', '1,986,840', '2021.12.20', '7,290',\n",
       "       '220', '7,070', '7,340', '6,900', '224,526', '2021.12.17', '7,070',\n",
       "       '120', '7,220', '7,220', '6,970', '168,447', '2021.12.16', '7,190',\n",
       "       '10', '7,180', '7,330', '7,140', '161,087', '2021.12.15', '7,180',\n",
       "       '110', '7,290', '7,640', '7,160', '389,178', '2021.12.14', '7,290',\n",
       "       '210', '7,340', '7,420', '7,200', '242,689'], dtype='<U10')"
      ]
     },
     "execution_count": 36,
     "metadata": {},
     "output_type": "execute_result"
    }
   ],
   "source": [
    "data_array = np.array(data)\n",
    "data_array"
   ]
  },
  {
   "cell_type": "code",
   "execution_count": 37,
   "metadata": {},
   "outputs": [],
   "source": [
    "data_array =data_array.reshape(-1,7)"
   ]
  },
  {
   "cell_type": "code",
   "execution_count": 38,
   "metadata": {
    "scrolled": true
   },
   "outputs": [
    {
     "data": {
      "text/plain": [
       "array([['2021.12.27', '8,070', '0', '8,010', '8,220', '7,870', '662,204'],\n",
       "       ['2021.12.24', '8,070', '470', '8,610', '8,880', '8,010',\n",
       "        '1,598,697'],\n",
       "       ['2021.12.23', '8,540', '160', '8,700', '8,760', '8,520',\n",
       "        '1,272,643'],\n",
       "       ['2021.12.22', '8,700', '1,350', '7,390', '9,350', '7,310',\n",
       "        '9,952,575'],\n",
       "       ['2021.12.21', '7,350', '60', '7,300', '8,140', '7,150',\n",
       "        '1,986,840'],\n",
       "       ['2021.12.20', '7,290', '220', '7,070', '7,340', '6,900',\n",
       "        '224,526'],\n",
       "       ['2021.12.17', '7,070', '120', '7,220', '7,220', '6,970',\n",
       "        '168,447'],\n",
       "       ['2021.12.16', '7,190', '10', '7,180', '7,330', '7,140',\n",
       "        '161,087'],\n",
       "       ['2021.12.15', '7,180', '110', '7,290', '7,640', '7,160',\n",
       "        '389,178'],\n",
       "       ['2021.12.14', '7,290', '210', '7,340', '7,420', '7,200',\n",
       "        '242,689']], dtype='<U10')"
      ]
     },
     "execution_count": 38,
     "metadata": {},
     "output_type": "execute_result"
    }
   ],
   "source": [
    "data_array"
   ]
  },
  {
   "cell_type": "code",
   "execution_count": 39,
   "metadata": {},
   "outputs": [
    {
     "data": {
      "text/plain": [
       "['날짜', '종가', '전일비', '시가', '고가', '저가', '거래량']"
      ]
     },
     "execution_count": 39,
     "metadata": {},
     "output_type": "execute_result"
    }
   ],
   "source": [
    "columns_name =[i.text for i in html.select('th')]\n",
    "columns_name"
   ]
  },
  {
   "cell_type": "code",
   "execution_count": 40,
   "metadata": {},
   "outputs": [
    {
     "data": {
      "text/html": [
       "<div>\n",
       "<style scoped>\n",
       "    .dataframe tbody tr th:only-of-type {\n",
       "        vertical-align: middle;\n",
       "    }\n",
       "\n",
       "    .dataframe tbody tr th {\n",
       "        vertical-align: top;\n",
       "    }\n",
       "\n",
       "    .dataframe thead th {\n",
       "        text-align: right;\n",
       "    }\n",
       "</style>\n",
       "<table border=\"1\" class=\"dataframe\">\n",
       "  <thead>\n",
       "    <tr style=\"text-align: right;\">\n",
       "      <th></th>\n",
       "      <th>날짜</th>\n",
       "      <th>종가</th>\n",
       "      <th>전일비</th>\n",
       "      <th>시가</th>\n",
       "      <th>고가</th>\n",
       "      <th>저가</th>\n",
       "      <th>거래량</th>\n",
       "    </tr>\n",
       "  </thead>\n",
       "  <tbody>\n",
       "    <tr>\n",
       "      <th>0</th>\n",
       "      <td>2021.12.27</td>\n",
       "      <td>8,070</td>\n",
       "      <td>0</td>\n",
       "      <td>8,010</td>\n",
       "      <td>8,220</td>\n",
       "      <td>7,870</td>\n",
       "      <td>662,204</td>\n",
       "    </tr>\n",
       "    <tr>\n",
       "      <th>1</th>\n",
       "      <td>2021.12.24</td>\n",
       "      <td>8,070</td>\n",
       "      <td>470</td>\n",
       "      <td>8,610</td>\n",
       "      <td>8,880</td>\n",
       "      <td>8,010</td>\n",
       "      <td>1,598,697</td>\n",
       "    </tr>\n",
       "    <tr>\n",
       "      <th>2</th>\n",
       "      <td>2021.12.23</td>\n",
       "      <td>8,540</td>\n",
       "      <td>160</td>\n",
       "      <td>8,700</td>\n",
       "      <td>8,760</td>\n",
       "      <td>8,520</td>\n",
       "      <td>1,272,643</td>\n",
       "    </tr>\n",
       "    <tr>\n",
       "      <th>3</th>\n",
       "      <td>2021.12.22</td>\n",
       "      <td>8,700</td>\n",
       "      <td>1,350</td>\n",
       "      <td>7,390</td>\n",
       "      <td>9,350</td>\n",
       "      <td>7,310</td>\n",
       "      <td>9,952,575</td>\n",
       "    </tr>\n",
       "    <tr>\n",
       "      <th>4</th>\n",
       "      <td>2021.12.21</td>\n",
       "      <td>7,350</td>\n",
       "      <td>60</td>\n",
       "      <td>7,300</td>\n",
       "      <td>8,140</td>\n",
       "      <td>7,150</td>\n",
       "      <td>1,986,840</td>\n",
       "    </tr>\n",
       "    <tr>\n",
       "      <th>5</th>\n",
       "      <td>2021.12.20</td>\n",
       "      <td>7,290</td>\n",
       "      <td>220</td>\n",
       "      <td>7,070</td>\n",
       "      <td>7,340</td>\n",
       "      <td>6,900</td>\n",
       "      <td>224,526</td>\n",
       "    </tr>\n",
       "    <tr>\n",
       "      <th>6</th>\n",
       "      <td>2021.12.17</td>\n",
       "      <td>7,070</td>\n",
       "      <td>120</td>\n",
       "      <td>7,220</td>\n",
       "      <td>7,220</td>\n",
       "      <td>6,970</td>\n",
       "      <td>168,447</td>\n",
       "    </tr>\n",
       "    <tr>\n",
       "      <th>7</th>\n",
       "      <td>2021.12.16</td>\n",
       "      <td>7,190</td>\n",
       "      <td>10</td>\n",
       "      <td>7,180</td>\n",
       "      <td>7,330</td>\n",
       "      <td>7,140</td>\n",
       "      <td>161,087</td>\n",
       "    </tr>\n",
       "    <tr>\n",
       "      <th>8</th>\n",
       "      <td>2021.12.15</td>\n",
       "      <td>7,180</td>\n",
       "      <td>110</td>\n",
       "      <td>7,290</td>\n",
       "      <td>7,640</td>\n",
       "      <td>7,160</td>\n",
       "      <td>389,178</td>\n",
       "    </tr>\n",
       "    <tr>\n",
       "      <th>9</th>\n",
       "      <td>2021.12.14</td>\n",
       "      <td>7,290</td>\n",
       "      <td>210</td>\n",
       "      <td>7,340</td>\n",
       "      <td>7,420</td>\n",
       "      <td>7,200</td>\n",
       "      <td>242,689</td>\n",
       "    </tr>\n",
       "  </tbody>\n",
       "</table>\n",
       "</div>"
      ],
      "text/plain": [
       "           날짜     종가    전일비     시가     고가     저가        거래량\n",
       "0  2021.12.27  8,070      0  8,010  8,220  7,870    662,204\n",
       "1  2021.12.24  8,070    470  8,610  8,880  8,010  1,598,697\n",
       "2  2021.12.23  8,540    160  8,700  8,760  8,520  1,272,643\n",
       "3  2021.12.22  8,700  1,350  7,390  9,350  7,310  9,952,575\n",
       "4  2021.12.21  7,350     60  7,300  8,140  7,150  1,986,840\n",
       "5  2021.12.20  7,290    220  7,070  7,340  6,900    224,526\n",
       "6  2021.12.17  7,070    120  7,220  7,220  6,970    168,447\n",
       "7  2021.12.16  7,190     10  7,180  7,330  7,140    161,087\n",
       "8  2021.12.15  7,180    110  7,290  7,640  7,160    389,178\n",
       "9  2021.12.14  7,290    210  7,340  7,420  7,200    242,689"
      ]
     },
     "execution_count": 40,
     "metadata": {},
     "output_type": "execute_result"
    }
   ],
   "source": [
    "#데이터 프레임 제작\n",
    "df= pd.DataFrame(data_array, columns = columns_name )\n",
    "df"
   ]
  },
  {
   "cell_type": "code",
   "execution_count": null,
   "metadata": {
    "ExecuteTime": {
     "end_time": "2021-09-27T02:10:25.851465Z",
     "start_time": "2021-09-27T02:10:25.837996Z"
    }
   },
   "outputs": [],
   "source": []
  },
  {
   "cell_type": "code",
   "execution_count": 41,
   "metadata": {
    "scrolled": true
   },
   "outputs": [],
   "source": [
    "url = 'https://finance.daum.net/api/quote/A035720/days?symbolCode=A035720&page=1&perPage=10&pagination=true'\n",
    "info = {'referer': 'https://finance.daum.net/quotes/A035720',\n",
    "       'user-agent': 'Mozilla/5.0 (Windows NT 10.0; Win64; x64) AppleWebKit/537.36 (KHTML, like Gecko) Chrome/97.0.4692.71 Safari/537.36'\n",
    "       }\n",
    "\n",
    "resp = requests.get(url,params = info)\n",
    "#resp = requests.get(url,headers = info)\n",
    "#div.box_contents\n",
    "#data = [item.text.strip() for item in html.select('div.box_contents')]\n",
    "#data_array = np.array(data)\n",
    "#data_array =data_array.reshape(-1,7)"
   ]
  },
  {
   "cell_type": "code",
   "execution_count": 47,
   "metadata": {},
   "outputs": [
    {
     "data": {
      "text/plain": [
       "<Response [403]>"
      ]
     },
     "execution_count": 47,
     "metadata": {},
     "output_type": "execute_result"
    }
   ],
   "source": [
    "resp"
   ]
  },
  {
   "cell_type": "code",
   "execution_count": 42,
   "metadata": {},
   "outputs": [],
   "source": [
    "import json"
   ]
  },
  {
   "cell_type": "code",
   "execution_count": 46,
   "metadata": {},
   "outputs": [
    {
     "ename": "AttributeError",
     "evalue": "'Response' object has no attribute 'read'",
     "output_type": "error",
     "traceback": [
      "\u001b[1;31m---------------------------------------------------------------------------\u001b[0m",
      "\u001b[1;31mAttributeError\u001b[0m                            Traceback (most recent call last)",
      "\u001b[1;32m<ipython-input-46-82ccca4ec50b>\u001b[0m in \u001b[0;36m<module>\u001b[1;34m\u001b[0m\n\u001b[1;32m----> 1\u001b[1;33m \u001b[0mdata\u001b[0m \u001b[1;33m=\u001b[0m \u001b[0mjson\u001b[0m\u001b[1;33m.\u001b[0m\u001b[0mload\u001b[0m\u001b[1;33m(\u001b[0m\u001b[0mresp\u001b[0m\u001b[1;33m)\u001b[0m\u001b[1;33m\u001b[0m\u001b[1;33m\u001b[0m\u001b[0m\n\u001b[0m\u001b[0;32m      2\u001b[0m \u001b[0mdata\u001b[0m\u001b[1;33m\u001b[0m\u001b[1;33m\u001b[0m\u001b[0m\n",
      "\u001b[1;32mC:\\ProgramData\\Anaconda3\\lib\\json\\__init__.py\u001b[0m in \u001b[0;36mload\u001b[1;34m(fp, cls, object_hook, parse_float, parse_int, parse_constant, object_pairs_hook, **kw)\u001b[0m\n\u001b[0;32m    291\u001b[0m     \u001b[0mkwarg\u001b[0m\u001b[1;33m;\u001b[0m \u001b[0motherwise\u001b[0m\u001b[0;31m \u001b[0m\u001b[0;31m`\u001b[0m\u001b[0;31m`\u001b[0m\u001b[0mJSONDecoder\u001b[0m\u001b[0;31m`\u001b[0m\u001b[0;31m`\u001b[0m \u001b[1;32mis\u001b[0m \u001b[0mused\u001b[0m\u001b[1;33m.\u001b[0m\u001b[1;33m\u001b[0m\u001b[1;33m\u001b[0m\u001b[0m\n\u001b[0;32m    292\u001b[0m     \"\"\"\n\u001b[1;32m--> 293\u001b[1;33m     return loads(fp.read(),\n\u001b[0m\u001b[0;32m    294\u001b[0m         \u001b[0mcls\u001b[0m\u001b[1;33m=\u001b[0m\u001b[0mcls\u001b[0m\u001b[1;33m,\u001b[0m \u001b[0mobject_hook\u001b[0m\u001b[1;33m=\u001b[0m\u001b[0mobject_hook\u001b[0m\u001b[1;33m,\u001b[0m\u001b[1;33m\u001b[0m\u001b[1;33m\u001b[0m\u001b[0m\n\u001b[0;32m    295\u001b[0m         \u001b[0mparse_float\u001b[0m\u001b[1;33m=\u001b[0m\u001b[0mparse_float\u001b[0m\u001b[1;33m,\u001b[0m \u001b[0mparse_int\u001b[0m\u001b[1;33m=\u001b[0m\u001b[0mparse_int\u001b[0m\u001b[1;33m,\u001b[0m\u001b[1;33m\u001b[0m\u001b[1;33m\u001b[0m\u001b[0m\n",
      "\u001b[1;31mAttributeError\u001b[0m: 'Response' object has no attribute 'read'"
     ]
    }
   ],
   "source": [
    "data = json.load(resp)\n",
    "data"
   ]
  },
  {
   "cell_type": "code",
   "execution_count": 45,
   "metadata": {},
   "outputs": [
    {
     "data": {
      "text/html": [
       "<div>\n",
       "<style scoped>\n",
       "    .dataframe tbody tr th:only-of-type {\n",
       "        vertical-align: middle;\n",
       "    }\n",
       "\n",
       "    .dataframe tbody tr th {\n",
       "        vertical-align: top;\n",
       "    }\n",
       "\n",
       "    .dataframe thead th {\n",
       "        text-align: right;\n",
       "    }\n",
       "</style>\n",
       "<table border=\"1\" class=\"dataframe\">\n",
       "  <thead>\n",
       "    <tr style=\"text-align: right;\">\n",
       "      <th></th>\n",
       "      <th>0</th>\n",
       "    </tr>\n",
       "  </thead>\n",
       "  <tbody>\n",
       "    <tr>\n",
       "      <th>0</th>\n",
       "      <td>2021.12.27</td>\n",
       "    </tr>\n",
       "    <tr>\n",
       "      <th>1</th>\n",
       "      <td>8,070</td>\n",
       "    </tr>\n",
       "    <tr>\n",
       "      <th>2</th>\n",
       "      <td>0</td>\n",
       "    </tr>\n",
       "    <tr>\n",
       "      <th>3</th>\n",
       "      <td>8,010</td>\n",
       "    </tr>\n",
       "    <tr>\n",
       "      <th>4</th>\n",
       "      <td>8,220</td>\n",
       "    </tr>\n",
       "    <tr>\n",
       "      <th>...</th>\n",
       "      <td>...</td>\n",
       "    </tr>\n",
       "    <tr>\n",
       "      <th>65</th>\n",
       "      <td>210</td>\n",
       "    </tr>\n",
       "    <tr>\n",
       "      <th>66</th>\n",
       "      <td>7,340</td>\n",
       "    </tr>\n",
       "    <tr>\n",
       "      <th>67</th>\n",
       "      <td>7,420</td>\n",
       "    </tr>\n",
       "    <tr>\n",
       "      <th>68</th>\n",
       "      <td>7,200</td>\n",
       "    </tr>\n",
       "    <tr>\n",
       "      <th>69</th>\n",
       "      <td>242,689</td>\n",
       "    </tr>\n",
       "  </tbody>\n",
       "</table>\n",
       "<p>70 rows × 1 columns</p>\n",
       "</div>"
      ],
      "text/plain": [
       "             0\n",
       "0   2021.12.27\n",
       "1        8,070\n",
       "2            0\n",
       "3        8,010\n",
       "4        8,220\n",
       "..         ...\n",
       "65         210\n",
       "66       7,340\n",
       "67       7,420\n",
       "68       7,200\n",
       "69     242,689\n",
       "\n",
       "[70 rows x 1 columns]"
      ]
     },
     "execution_count": 45,
     "metadata": {},
     "output_type": "execute_result"
    }
   ],
   "source": [
    "pd.DataFrame(data)"
   ]
  },
  {
   "cell_type": "code",
   "execution_count": null,
   "metadata": {},
   "outputs": [],
   "source": []
  },
  {
   "cell_type": "code",
   "execution_count": null,
   "metadata": {},
   "outputs": [],
   "source": []
  },
  {
   "cell_type": "code",
   "execution_count": null,
   "metadata": {},
   "outputs": [],
   "source": []
  },
  {
   "cell_type": "code",
   "execution_count": 90,
   "metadata": {
    "ExecuteTime": {
     "end_time": "2021-09-27T02:10:40.153165Z",
     "start_time": "2021-09-27T02:10:40.149987Z"
    }
   },
   "outputs": [],
   "source": [
    "# 콤마 제거\n",
    "\n",
    "# 함수 적용\n",
    "\n",
    "# 타입 변환\n",
    "\n",
    "# 종가 그래프\n"
   ]
  },
  {
   "cell_type": "markdown",
   "metadata": {},
   "source": [
    "### 20페이지 주가 정보 크롤링 해서 종가 그래프 출력"
   ]
  },
  {
   "cell_type": "code",
   "execution_count": 100,
   "metadata": {
    "ExecuteTime": {
     "end_time": "2021-09-27T04:10:31.778681Z",
     "start_time": "2021-09-27T04:09:40.133778Z"
    }
   },
   "outputs": [
    {
     "name": "stdout",
     "output_type": "stream",
     "text": [
      "1페이지 크롤링 중\n",
      "2페이지 크롤링 중\n",
      "3페이지 크롤링 중\n",
      "4페이지 크롤링 중\n",
      "5페이지 크롤링 중\n",
      "6페이지 크롤링 중\n",
      "7페이지 크롤링 중\n",
      "8페이지 크롤링 중\n",
      "9페이지 크롤링 중\n",
      "10페이지 크롤링 중\n",
      "11페이지 크롤링 중\n",
      "12페이지 크롤링 중\n",
      "13페이지 크롤링 중\n",
      "14페이지 크롤링 중\n",
      "15페이지 크롤링 중\n",
      "16페이지 크롤링 중\n",
      "17페이지 크롤링 중\n",
      "18페이지 크롤링 중\n",
      "19페이지 크롤링 중\n",
      "20페이지 크롤링 중\n"
     ]
    }
   ],
   "source": [
    "# 헤더정보 정의\n",
    "total_df = pd.DataFrame()\n",
    "# 인덱스 정의\n",
    "for i in range(i):\n",
    "    url=f'{i}page'\n",
    "\n",
    "\n",
    "# 전체 가격 데이터\n",
    "\n",
    "# requests 요청시에 헤더정보 추가\n",
    "    \n",
    "# html 변환\n",
    "    temp_df = pd.DataFrame(data['key'])\n",
    "# 날짜 인덱스 살려서 활용하기\n",
    "    total_df = pd.concat([total_df,temp_df])\n",
    "# 가격정보 추출\n",
    "\n",
    "# 데이터프레임 제작\n"
   ]
  },
  {
   "cell_type": "code",
   "execution_count": 101,
   "metadata": {
    "ExecuteTime": {
     "end_time": "2021-09-27T04:10:35.321839Z",
     "start_time": "2021-09-27T04:10:35.085392Z"
    }
   },
   "outputs": [
    {
     "data": {
      "text/plain": [
       "<matplotlib.axes._subplots.AxesSubplot at 0x118451c18>"
      ]
     },
     "execution_count": 101,
     "metadata": {},
     "output_type": "execute_result"
    },
    {
     "data": {
      "image/png": "[encoded data removed]",
      "text/plain": [
       "<Figure size 432x288 with 1 Axes>"
      ]
     },
     "metadata": {
      "needs_background": "light"
     },
     "output_type": "display_data"
    }
   ],
   "source": []
  },
  {
   "cell_type": "markdown",
   "metadata": {},
   "source": [
    "### 종목도 여러개 순환시키고 각 개별종목 데이터 csv 저장하는 연습"
   ]
  },
  {
   "cell_type": "markdown",
   "metadata": {
    "id": "GIvAIByBCAz1",
    "slideshow": {
     "slide_type": "slide"
    }
   },
   "source": [
    "### 네이버 데이터랩 인기검색어 크롤링"
   ]
  },
  {
   "cell_type": "code",
   "execution_count": 265,
   "metadata": {},
   "outputs": [],
   "source": [
    "url ='https://datalab.naver.com/shoppingInsight/getCategoryRank.naver?timeUnit=date&cid=50000000'\n",
    "info ={'referer': 'https://datalab.naver.com/home/sectionSearch.naver',\n",
    "       'user-agent': 'Mozilla/5.0 (Windows NT 10.0; Win64; x64) AppleWebKit/537.36 (KHTML, like Gecko) Chrome/97.0.4692.71 Safari/537.36'\n",
    "    \n",
    "}\n",
    "resp = requests.post(url,headers=info)"
   ]
  },
  {
   "cell_type": "code",
   "execution_count": 280,
   "metadata": {},
   "outputs": [
    {
     "data": {
      "text/plain": [
       "'[{\"message\":null,\"statusCode\":200,\"returnCode\":0,\"date\":\"2021/12/30\",\"datetime\":\"2021.12.30.(목)\",\"range\":\"\",\"ranks\":[{\"rank\":1,\"keyword\":\"점퍼\",\"linkId\":\"50000814\"},{\"rank\":2,\"keyword\":\"점퍼\",\"linkId\":\"50000837\"},{\"rank\":3,\"keyword\":\"코트\",\"linkId\":\"50000813\"},{\"rank\":4,\"keyword\":\"티셔츠\",\"linkId\":\"50000830\"},{\"rank\":5,\"keyword\":\"원피스\",\"linkId\":\"50000807\"},{\"rank\":6,\"keyword\":\"니트/스웨터\",\"linkId\":\"50000805\"},{\"rank\":7,\"keyword\":\"바지\",\"linkId\":\"50000810\"},{\"rank\":8,\"keyword\":\"재킷\",\"linkId\":\"50000815\"},{\"rank\":9,\"keyword\":\"티셔츠\",\"linkId\":\"50000803\"},{\"rank\":10,\"keyword\":\"바지\",\"linkId\":\"50000836\"}]},{\"message\":null,\"statusCode\":200,\"returnCode\":0,\"date\":\"2021/12/31\",\"datetime\":\"2021.12.31.(금)\",\"range\":\"\",\"ranks\":[{\"rank\":1,\"keyword\":\"점퍼\",\"linkId\":\"50000814\"},{\"rank\":2,\"keyword\":\"점퍼\",\"linkId\":\"50000837\"},{\"rank\":3,\"keyword\":\"코트\",\"linkId\":\"50000813\"},{\"rank\":4,\"keyword\":\"티셔츠\",\"linkId\":\"50000830\"},{\"rank\":5,\"keyword\":\"원피스\",\"linkId\":\"50000807\"},{\"rank\":6,\"keyword\":\"니트/스웨터\",\"linkId\":\"50000805\"},{\"rank\":7,\"keyword\":\"재킷\",\"linkId\":\"50000815\"},{\"rank\":8,\"keyword\":\"바지\",\"linkId\":\"50000810\"},{\"rank\":9,\"keyword\":\"티셔츠\",\"linkId\":\"50000803\"},{\"rank\":10,\"keyword\":\"바지\",\"linkId\":\"50000836\"}]},{\"message\":null,\"statusCode\":200,\"returnCode\":0,\"date\":\"2022/01/01\",\"datetime\":\"2022.01.01.(토)\",\"range\":\"\",\"ranks\":[{\"rank\":1,\"keyword\":\"점퍼\",\"linkId\":\"50000814\"},{\"rank\":2,\"keyword\":\"점퍼\",\"linkId\":\"50000837\"},{\"rank\":3,\"keyword\":\"코트\",\"linkId\":\"50000813\"},{\"rank\":4,\"keyword\":\"원피스\",\"linkId\":\"50000807\"},{\"rank\":5,\"keyword\":\"티셔츠\",\"linkId\":\"50000830\"},{\"rank\":6,\"keyword\":\"니트/스웨터\",\"linkId\":\"50000805\"},{\"rank\":7,\"keyword\":\"재킷\",\"linkId\":\"50000815\"},{\"rank\":8,\"keyword\":\"바지\",\"linkId\":\"50000810\"},{\"rank\":9,\"keyword\":\"티셔츠\",\"linkId\":\"50000803\"},{\"rank\":10,\"keyword\":\"바지\",\"linkId\":\"50000836\"}]},{\"message\":null,\"statusCode\":200,\"returnCode\":0,\"date\":\"2022/01/02\",\"datetime\":\"2022.01.02.(일)\",\"range\":\"\",\"ranks\":[{\"rank\":1,\"keyword\":\"점퍼\",\"linkId\":\"50000814\"},{\"rank\":2,\"keyword\":\"점퍼\",\"linkId\":\"50000837\"},{\"rank\":3,\"keyword\":\"코트\",\"linkId\":\"50000813\"},{\"rank\":4,\"keyword\":\"원피스\",\"linkId\":\"50000807\"},{\"rank\":5,\"keyword\":\"티셔츠\",\"linkId\":\"50000830\"},{\"rank\":6,\"keyword\":\"니트/스웨터\",\"linkId\":\"50000805\"},{\"rank\":7,\"keyword\":\"재킷\",\"linkId\":\"50000815\"},{\"rank\":8,\"keyword\":\"바지\",\"linkId\":\"50000810\"},{\"rank\":9,\"keyword\":\"바지\",\"linkId\":\"50000836\"},{\"rank\":10,\"keyword\":\"재킷\",\"linkId\":\"50000838\"}]},{\"message\":null,\"statusCode\":200,\"returnCode\":0,\"date\":\"2022/01/03\",\"datetime\":\"2022.01.03.(월)\",\"range\":\"\",\"ranks\":[{\"rank\":1,\"keyword\":\"점퍼\",\"linkId\":\"50000814\"},{\"rank\":2,\"keyword\":\"점퍼\",\"linkId\":\"50000837\"},{\"rank\":3,\"keyword\":\"코트\",\"linkId\":\"50000813\"},{\"rank\":4,\"keyword\":\"티셔츠\",\"linkId\":\"50000830\"},{\"rank\":5,\"keyword\":\"원피스\",\"linkId\":\"50000807\"},{\"rank\":6,\"keyword\":\"니트/스웨터\",\"linkId\":\"50000805\"},{\"rank\":7,\"keyword\":\"바지\",\"linkId\":\"50000810\"},{\"rank\":8,\"keyword\":\"재킷\",\"linkId\":\"50000815\"},{\"rank\":9,\"keyword\":\"티셔츠\",\"linkId\":\"50000803\"},{\"rank\":10,\"keyword\":\"바지\",\"linkId\":\"50000836\"}]},{\"message\":null,\"statusCode\":200,\"returnCode\":0,\"date\":\"2022/01/04\",\"datetime\":\"2022.01.04.(화)\",\"range\":\"\",\"ranks\":[{\"rank\":1,\"keyword\":\"점퍼\",\"linkId\":\"50000814\"},{\"rank\":2,\"keyword\":\"코트\",\"linkId\":\"50000813\"},{\"rank\":3,\"keyword\":\"점퍼\",\"linkId\":\"50000837\"},{\"rank\":4,\"keyword\":\"티셔츠\",\"linkId\":\"50000830\"},{\"rank\":5,\"keyword\":\"원피스\",\"linkId\":\"50000807\"},{\"rank\":6,\"keyword\":\"니트/스웨터\",\"linkId\":\"50000805\"},{\"rank\":7,\"keyword\":\"재킷\",\"linkId\":\"50000815\"},{\"rank\":8,\"keyword\":\"바지\",\"linkId\":\"50000810\"},{\"rank\":9,\"keyword\":\"티셔츠\",\"linkId\":\"50000803\"},{\"rank\":10,\"keyword\":\"바지\",\"linkId\":\"50000836\"}]},{\"message\":null,\"statusCode\":200,\"returnCode\":0,\"date\":\"2022/01/05\",\"datetime\":\"2022.01.05.(수)\",\"range\":\"\",\"ranks\":[{\"rank\":1,\"keyword\":\"점퍼\",\"linkId\":\"50000814\"},{\"rank\":2,\"keyword\":\"코트\",\"linkId\":\"50000813\"},{\"rank\":3,\"keyword\":\"점퍼\",\"linkId\":\"50000837\"},{\"rank\":4,\"keyword\":\"원피스\",\"linkId\":\"50000807\"},{\"rank\":5,\"keyword\":\"티셔츠\",\"linkId\":\"50000830\"},{\"rank\":6,\"keyword\":\"니트/스웨터\",\"linkId\":\"50000805\"},{\"rank\":7,\"keyword\":\"재킷\",\"linkId\":\"50000815\"},{\"rank\":8,\"keyword\":\"바지\",\"linkId\":\"50000810\"},{\"rank\":9,\"keyword\":\"티셔츠\",\"linkId\":\"50000803\"},{\"rank\":10,\"keyword\":\"바지\",\"linkId\":\"50000836\"}]},{\"message\":null,\"statusCode\":200,\"returnCode\":0,\"date\":\"2022/01/06\",\"datetime\":\"2022.01.06.(목)\",\"range\":\"\",\"ranks\":[{\"rank\":1,\"keyword\":\"점퍼\",\"linkId\":\"50000814\"},{\"rank\":2,\"keyword\":\"코트\",\"linkId\":\"50000813\"},{\"rank\":3,\"keyword\":\"점퍼\",\"linkId\":\"50000837\"},{\"rank\":4,\"keyword\":\"원피스\",\"linkId\":\"50000807\"},{\"rank\":5,\"keyword\":\"티셔츠\",\"linkId\":\"50000830\"},{\"rank\":6,\"keyword\":\"니트/스웨터\",\"linkId\":\"50000805\"},{\"rank\":7,\"keyword\":\"재킷\",\"linkId\":\"50000815\"},{\"rank\":8,\"keyword\":\"바지\",\"linkId\":\"50000810\"},{\"rank\":9,\"keyword\":\"티셔츠\",\"linkId\":\"50000803\"},{\"rank\":10,\"keyword\":\"재킷\",\"linkId\":\"50000838\"}]},{\"message\":null,\"statusCode\":200,\"returnCode\":0,\"date\":\"2022/01/07\",\"datetime\":\"2022.01.07.(금)\",\"range\":\"\",\"ranks\":[{\"rank\":1,\"keyword\":\"점퍼\",\"linkId\":\"50000814\"},{\"rank\":2,\"keyword\":\"코트\",\"linkId\":\"50000813\"},{\"rank\":3,\"keyword\":\"점퍼\",\"linkId\":\"50000837\"},{\"rank\":4,\"keyword\":\"원피스\",\"linkId\":\"50000807\"},{\"rank\":5,\"keyword\":\"티셔츠\",\"linkId\":\"50000830\"},{\"rank\":6,\"keyword\":\"니트/스웨터\",\"linkId\":\"50000805\"},{\"rank\":7,\"keyword\":\"재킷\",\"linkId\":\"50000815\"},{\"rank\":8,\"keyword\":\"바지\",\"linkId\":\"50000810\"},{\"rank\":9,\"keyword\":\"티셔츠\",\"linkId\":\"50000803\"},{\"rank\":10,\"keyword\":\"재킷\",\"linkId\":\"50000838\"}]},{\"message\":null,\"statusCode\":200,\"returnCode\":0,\"date\":\"2022/01/08\",\"datetime\":\"2022.01.08.(토)\",\"range\":\"\",\"ranks\":[{\"rank\":1,\"keyword\":\"점퍼\",\"linkId\":\"50000814\"},{\"rank\":2,\"keyword\":\"코트\",\"linkId\":\"50000813\"},{\"rank\":3,\"keyword\":\"점퍼\",\"linkId\":\"50000837\"},{\"rank\":4,\"keyword\":\"원피스\",\"linkId\":\"50000807\"},{\"rank\":5,\"keyword\":\"티셔츠\",\"linkId\":\"50000830\"},{\"rank\":6,\"keyword\":\"니트/스웨터\",\"linkId\":\"50000805\"},{\"rank\":7,\"keyword\":\"재킷\",\"linkId\":\"50000815\"},{\"rank\":8,\"keyword\":\"바지\",\"linkId\":\"50000810\"},{\"rank\":9,\"keyword\":\"티셔츠\",\"linkId\":\"50000803\"},{\"rank\":10,\"keyword\":\"재킷\",\"linkId\":\"50000838\"}]},{\"message\":null,\"statusCode\":200,\"returnCode\":0,\"date\":\"2022/01/09\",\"datetime\":\"2022.01.09.(일)\",\"range\":\"\",\"ranks\":[{\"rank\":1,\"keyword\":\"점퍼\",\"linkId\":\"50000814\"},{\"rank\":2,\"keyword\":\"코트\",\"linkId\":\"50000813\"},{\"rank\":3,\"keyword\":\"원피스\",\"linkId\":\"50000807\"},{\"rank\":4,\"keyword\":\"점퍼\",\"linkId\":\"50000837\"},{\"rank\":5,\"keyword\":\"티셔츠\",\"linkId\":\"50000830\"},{\"rank\":6,\"keyword\":\"니트/스웨터\",\"linkId\":\"50000805\"},{\"rank\":7,\"keyword\":\"재킷\",\"linkId\":\"50000815\"},{\"rank\":8,\"keyword\":\"바지\",\"linkId\":\"50000810\"},{\"rank\":9,\"keyword\":\"티셔츠\",\"linkId\":\"50000803\"},{\"rank\":10,\"keyword\":\"재킷\",\"linkId\":\"50000838\"}]},{\"message\":null,\"statusCode\":200,\"returnCode\":0,\"date\":\"2022/01/10\",\"datetime\":\"2022.01.10.(월)\",\"range\":\"\",\"ranks\":[{\"rank\":1,\"keyword\":\"점퍼\",\"linkId\":\"50000814\"},{\"rank\":2,\"keyword\":\"코트\",\"linkId\":\"50000813\"},{\"rank\":3,\"keyword\":\"원피스\",\"linkId\":\"50000807\"},{\"rank\":4,\"keyword\":\"점퍼\",\"linkId\":\"50000837\"},{\"rank\":5,\"keyword\":\"티셔츠\",\"linkId\":\"50000830\"},{\"rank\":6,\"keyword\":\"니트/스웨터\",\"linkId\":\"50000805\"},{\"rank\":7,\"keyword\":\"재킷\",\"linkId\":\"50000815\"},{\"rank\":8,\"keyword\":\"바지\",\"linkId\":\"50000810\"},{\"rank\":9,\"keyword\":\"티셔츠\",\"linkId\":\"50000803\"},{\"rank\":10,\"keyword\":\"재킷\",\"linkId\":\"50000838\"}]}]'"
      ]
     },
     "execution_count": 280,
     "metadata": {},
     "output_type": "execute_result"
    }
   ],
   "source": [
    "resp.text # <- 이렇게 먼저 확인해보고 json인지 html인지 선택하자"
   ]
  },
  {
   "cell_type": "code",
   "execution_count": 286,
   "metadata": {
    "scrolled": false
   },
   "outputs": [
    {
     "data": {
      "text/plain": [
       "[{'message': None,\n",
       "  'statusCode': 200,\n",
       "  'returnCode': 0,\n",
       "  'date': '2021/12/30',\n",
       "  'datetime': '2021.12.30.(목)',\n",
       "  'range': '',\n",
       "  'ranks': [{'rank': 1, 'keyword': '점퍼', 'linkId': '50000814'},\n",
       "   {'rank': 2, 'keyword': '점퍼', 'linkId': '50000837'},\n",
       "   {'rank': 3, 'keyword': '코트', 'linkId': '50000813'},\n",
       "   {'rank': 4, 'keyword': '티셔츠', 'linkId': '50000830'},\n",
       "   {'rank': 5, 'keyword': '원피스', 'linkId': '50000807'},\n",
       "   {'rank': 6, 'keyword': '니트/스웨터', 'linkId': '50000805'},\n",
       "   {'rank': 7, 'keyword': '바지', 'linkId': '50000810'},\n",
       "   {'rank': 8, 'keyword': '재킷', 'linkId': '50000815'},\n",
       "   {'rank': 9, 'keyword': '티셔츠', 'linkId': '50000803'},\n",
       "   {'rank': 10, 'keyword': '바지', 'linkId': '50000836'}]},\n",
       " {'message': None,\n",
       "  'statusCode': 200,\n",
       "  'returnCode': 0,\n",
       "  'date': '2021/12/31',\n",
       "  'datetime': '2021.12.31.(금)',\n",
       "  'range': '',\n",
       "  'ranks': [{'rank': 1, 'keyword': '점퍼', 'linkId': '50000814'},\n",
       "   {'rank': 2, 'keyword': '점퍼', 'linkId': '50000837'},\n",
       "   {'rank': 3, 'keyword': '코트', 'linkId': '50000813'},\n",
       "   {'rank': 4, 'keyword': '티셔츠', 'linkId': '50000830'},\n",
       "   {'rank': 5, 'keyword': '원피스', 'linkId': '50000807'},\n",
       "   {'rank': 6, 'keyword': '니트/스웨터', 'linkId': '50000805'},\n",
       "   {'rank': 7, 'keyword': '재킷', 'linkId': '50000815'},\n",
       "   {'rank': 8, 'keyword': '바지', 'linkId': '50000810'},\n",
       "   {'rank': 9, 'keyword': '티셔츠', 'linkId': '50000803'},\n",
       "   {'rank': 10, 'keyword': '바지', 'linkId': '50000836'}]},\n",
       " {'message': None,\n",
       "  'statusCode': 200,\n",
       "  'returnCode': 0,\n",
       "  'date': '2022/01/01',\n",
       "  'datetime': '2022.01.01.(토)',\n",
       "  'range': '',\n",
       "  'ranks': [{'rank': 1, 'keyword': '점퍼', 'linkId': '50000814'},\n",
       "   {'rank': 2, 'keyword': '점퍼', 'linkId': '50000837'},\n",
       "   {'rank': 3, 'keyword': '코트', 'linkId': '50000813'},\n",
       "   {'rank': 4, 'keyword': '원피스', 'linkId': '50000807'},\n",
       "   {'rank': 5, 'keyword': '티셔츠', 'linkId': '50000830'},\n",
       "   {'rank': 6, 'keyword': '니트/스웨터', 'linkId': '50000805'},\n",
       "   {'rank': 7, 'keyword': '재킷', 'linkId': '50000815'},\n",
       "   {'rank': 8, 'keyword': '바지', 'linkId': '50000810'},\n",
       "   {'rank': 9, 'keyword': '티셔츠', 'linkId': '50000803'},\n",
       "   {'rank': 10, 'keyword': '바지', 'linkId': '50000836'}]},\n",
       " {'message': None,\n",
       "  'statusCode': 200,\n",
       "  'returnCode': 0,\n",
       "  'date': '2022/01/02',\n",
       "  'datetime': '2022.01.02.(일)',\n",
       "  'range': '',\n",
       "  'ranks': [{'rank': 1, 'keyword': '점퍼', 'linkId': '50000814'},\n",
       "   {'rank': 2, 'keyword': '점퍼', 'linkId': '50000837'},\n",
       "   {'rank': 3, 'keyword': '코트', 'linkId': '50000813'},\n",
       "   {'rank': 4, 'keyword': '원피스', 'linkId': '50000807'},\n",
       "   {'rank': 5, 'keyword': '티셔츠', 'linkId': '50000830'},\n",
       "   {'rank': 6, 'keyword': '니트/스웨터', 'linkId': '50000805'},\n",
       "   {'rank': 7, 'keyword': '재킷', 'linkId': '50000815'},\n",
       "   {'rank': 8, 'keyword': '바지', 'linkId': '50000810'},\n",
       "   {'rank': 9, 'keyword': '바지', 'linkId': '50000836'},\n",
       "   {'rank': 10, 'keyword': '재킷', 'linkId': '50000838'}]},\n",
       " {'message': None,\n",
       "  'statusCode': 200,\n",
       "  'returnCode': 0,\n",
       "  'date': '2022/01/03',\n",
       "  'datetime': '2022.01.03.(월)',\n",
       "  'range': '',\n",
       "  'ranks': [{'rank': 1, 'keyword': '점퍼', 'linkId': '50000814'},\n",
       "   {'rank': 2, 'keyword': '점퍼', 'linkId': '50000837'},\n",
       "   {'rank': 3, 'keyword': '코트', 'linkId': '50000813'},\n",
       "   {'rank': 4, 'keyword': '티셔츠', 'linkId': '50000830'},\n",
       "   {'rank': 5, 'keyword': '원피스', 'linkId': '50000807'},\n",
       "   {'rank': 6, 'keyword': '니트/스웨터', 'linkId': '50000805'},\n",
       "   {'rank': 7, 'keyword': '바지', 'linkId': '50000810'},\n",
       "   {'rank': 8, 'keyword': '재킷', 'linkId': '50000815'},\n",
       "   {'rank': 9, 'keyword': '티셔츠', 'linkId': '50000803'},\n",
       "   {'rank': 10, 'keyword': '바지', 'linkId': '50000836'}]},\n",
       " {'message': None,\n",
       "  'statusCode': 200,\n",
       "  'returnCode': 0,\n",
       "  'date': '2022/01/04',\n",
       "  'datetime': '2022.01.04.(화)',\n",
       "  'range': '',\n",
       "  'ranks': [{'rank': 1, 'keyword': '점퍼', 'linkId': '50000814'},\n",
       "   {'rank': 2, 'keyword': '코트', 'linkId': '50000813'},\n",
       "   {'rank': 3, 'keyword': '점퍼', 'linkId': '50000837'},\n",
       "   {'rank': 4, 'keyword': '티셔츠', 'linkId': '50000830'},\n",
       "   {'rank': 5, 'keyword': '원피스', 'linkId': '50000807'},\n",
       "   {'rank': 6, 'keyword': '니트/스웨터', 'linkId': '50000805'},\n",
       "   {'rank': 7, 'keyword': '재킷', 'linkId': '50000815'},\n",
       "   {'rank': 8, 'keyword': '바지', 'linkId': '50000810'},\n",
       "   {'rank': 9, 'keyword': '티셔츠', 'linkId': '50000803'},\n",
       "   {'rank': 10, 'keyword': '바지', 'linkId': '50000836'}]},\n",
       " {'message': None,\n",
       "  'statusCode': 200,\n",
       "  'returnCode': 0,\n",
       "  'date': '2022/01/05',\n",
       "  'datetime': '2022.01.05.(수)',\n",
       "  'range': '',\n",
       "  'ranks': [{'rank': 1, 'keyword': '점퍼', 'linkId': '50000814'},\n",
       "   {'rank': 2, 'keyword': '코트', 'linkId': '50000813'},\n",
       "   {'rank': 3, 'keyword': '점퍼', 'linkId': '50000837'},\n",
       "   {'rank': 4, 'keyword': '원피스', 'linkId': '50000807'},\n",
       "   {'rank': 5, 'keyword': '티셔츠', 'linkId': '50000830'},\n",
       "   {'rank': 6, 'keyword': '니트/스웨터', 'linkId': '50000805'},\n",
       "   {'rank': 7, 'keyword': '재킷', 'linkId': '50000815'},\n",
       "   {'rank': 8, 'keyword': '바지', 'linkId': '50000810'},\n",
       "   {'rank': 9, 'keyword': '티셔츠', 'linkId': '50000803'},\n",
       "   {'rank': 10, 'keyword': '바지', 'linkId': '50000836'}]},\n",
       " {'message': None,\n",
       "  'statusCode': 200,\n",
       "  'returnCode': 0,\n",
       "  'date': '2022/01/06',\n",
       "  'datetime': '2022.01.06.(목)',\n",
       "  'range': '',\n",
       "  'ranks': [{'rank': 1, 'keyword': '점퍼', 'linkId': '50000814'},\n",
       "   {'rank': 2, 'keyword': '코트', 'linkId': '50000813'},\n",
       "   {'rank': 3, 'keyword': '점퍼', 'linkId': '50000837'},\n",
       "   {'rank': 4, 'keyword': '원피스', 'linkId': '50000807'},\n",
       "   {'rank': 5, 'keyword': '티셔츠', 'linkId': '50000830'},\n",
       "   {'rank': 6, 'keyword': '니트/스웨터', 'linkId': '50000805'},\n",
       "   {'rank': 7, 'keyword': '재킷', 'linkId': '50000815'},\n",
       "   {'rank': 8, 'keyword': '바지', 'linkId': '50000810'},\n",
       "   {'rank': 9, 'keyword': '티셔츠', 'linkId': '50000803'},\n",
       "   {'rank': 10, 'keyword': '재킷', 'linkId': '50000838'}]},\n",
       " {'message': None,\n",
       "  'statusCode': 200,\n",
       "  'returnCode': 0,\n",
       "  'date': '2022/01/07',\n",
       "  'datetime': '2022.01.07.(금)',\n",
       "  'range': '',\n",
       "  'ranks': [{'rank': 1, 'keyword': '점퍼', 'linkId': '50000814'},\n",
       "   {'rank': 2, 'keyword': '코트', 'linkId': '50000813'},\n",
       "   {'rank': 3, 'keyword': '점퍼', 'linkId': '50000837'},\n",
       "   {'rank': 4, 'keyword': '원피스', 'linkId': '50000807'},\n",
       "   {'rank': 5, 'keyword': '티셔츠', 'linkId': '50000830'},\n",
       "   {'rank': 6, 'keyword': '니트/스웨터', 'linkId': '50000805'},\n",
       "   {'rank': 7, 'keyword': '재킷', 'linkId': '50000815'},\n",
       "   {'rank': 8, 'keyword': '바지', 'linkId': '50000810'},\n",
       "   {'rank': 9, 'keyword': '티셔츠', 'linkId': '50000803'},\n",
       "   {'rank': 10, 'keyword': '재킷', 'linkId': '50000838'}]},\n",
       " {'message': None,\n",
       "  'statusCode': 200,\n",
       "  'returnCode': 0,\n",
       "  'date': '2022/01/08',\n",
       "  'datetime': '2022.01.08.(토)',\n",
       "  'range': '',\n",
       "  'ranks': [{'rank': 1, 'keyword': '점퍼', 'linkId': '50000814'},\n",
       "   {'rank': 2, 'keyword': '코트', 'linkId': '50000813'},\n",
       "   {'rank': 3, 'keyword': '점퍼', 'linkId': '50000837'},\n",
       "   {'rank': 4, 'keyword': '원피스', 'linkId': '50000807'},\n",
       "   {'rank': 5, 'keyword': '티셔츠', 'linkId': '50000830'},\n",
       "   {'rank': 6, 'keyword': '니트/스웨터', 'linkId': '50000805'},\n",
       "   {'rank': 7, 'keyword': '재킷', 'linkId': '50000815'},\n",
       "   {'rank': 8, 'keyword': '바지', 'linkId': '50000810'},\n",
       "   {'rank': 9, 'keyword': '티셔츠', 'linkId': '50000803'},\n",
       "   {'rank': 10, 'keyword': '재킷', 'linkId': '50000838'}]},\n",
       " {'message': None,\n",
       "  'statusCode': 200,\n",
       "  'returnCode': 0,\n",
       "  'date': '2022/01/09',\n",
       "  'datetime': '2022.01.09.(일)',\n",
       "  'range': '',\n",
       "  'ranks': [{'rank': 1, 'keyword': '점퍼', 'linkId': '50000814'},\n",
       "   {'rank': 2, 'keyword': '코트', 'linkId': '50000813'},\n",
       "   {'rank': 3, 'keyword': '원피스', 'linkId': '50000807'},\n",
       "   {'rank': 4, 'keyword': '점퍼', 'linkId': '50000837'},\n",
       "   {'rank': 5, 'keyword': '티셔츠', 'linkId': '50000830'},\n",
       "   {'rank': 6, 'keyword': '니트/스웨터', 'linkId': '50000805'},\n",
       "   {'rank': 7, 'keyword': '재킷', 'linkId': '50000815'},\n",
       "   {'rank': 8, 'keyword': '바지', 'linkId': '50000810'},\n",
       "   {'rank': 9, 'keyword': '티셔츠', 'linkId': '50000803'},\n",
       "   {'rank': 10, 'keyword': '재킷', 'linkId': '50000838'}]},\n",
       " {'message': None,\n",
       "  'statusCode': 200,\n",
       "  'returnCode': 0,\n",
       "  'date': '2022/01/10',\n",
       "  'datetime': '2022.01.10.(월)',\n",
       "  'range': '',\n",
       "  'ranks': [{'rank': 1, 'keyword': '점퍼', 'linkId': '50000814'},\n",
       "   {'rank': 2, 'keyword': '코트', 'linkId': '50000813'},\n",
       "   {'rank': 3, 'keyword': '원피스', 'linkId': '50000807'},\n",
       "   {'rank': 4, 'keyword': '점퍼', 'linkId': '50000837'},\n",
       "   {'rank': 5, 'keyword': '티셔츠', 'linkId': '50000830'},\n",
       "   {'rank': 6, 'keyword': '니트/스웨터', 'linkId': '50000805'},\n",
       "   {'rank': 7, 'keyword': '재킷', 'linkId': '50000815'},\n",
       "   {'rank': 8, 'keyword': '바지', 'linkId': '50000810'},\n",
       "   {'rank': 9, 'keyword': '티셔츠', 'linkId': '50000803'},\n",
       "   {'rank': 10, 'keyword': '재킷', 'linkId': '50000838'}]}]"
      ]
     },
     "execution_count": 286,
     "metadata": {},
     "output_type": "execute_result"
    }
   ],
   "source": [
    "data = json.loads(resp.text)\n",
    "data"
   ]
  },
  {
   "cell_type": "code",
   "execution_count": 293,
   "metadata": {},
   "outputs": [
    {
     "data": {
      "text/html": [
       "<div>\n",
       "<style scoped>\n",
       "    .dataframe tbody tr th:only-of-type {\n",
       "        vertical-align: middle;\n",
       "    }\n",
       "\n",
       "    .dataframe tbody tr th {\n",
       "        vertical-align: top;\n",
       "    }\n",
       "\n",
       "    .dataframe thead th {\n",
       "        text-align: right;\n",
       "    }\n",
       "</style>\n",
       "<table border=\"1\" class=\"dataframe\">\n",
       "  <thead>\n",
       "    <tr style=\"text-align: right;\">\n",
       "      <th></th>\n",
       "      <th>rank</th>\n",
       "      <th>keyword</th>\n",
       "      <th>linkId</th>\n",
       "    </tr>\n",
       "  </thead>\n",
       "  <tbody>\n",
       "    <tr>\n",
       "      <th>0</th>\n",
       "      <td>1</td>\n",
       "      <td>점퍼</td>\n",
       "      <td>50000814</td>\n",
       "    </tr>\n",
       "    <tr>\n",
       "      <th>1</th>\n",
       "      <td>2</td>\n",
       "      <td>점퍼</td>\n",
       "      <td>50000837</td>\n",
       "    </tr>\n",
       "    <tr>\n",
       "      <th>2</th>\n",
       "      <td>3</td>\n",
       "      <td>코트</td>\n",
       "      <td>50000813</td>\n",
       "    </tr>\n",
       "    <tr>\n",
       "      <th>3</th>\n",
       "      <td>4</td>\n",
       "      <td>티셔츠</td>\n",
       "      <td>50000830</td>\n",
       "    </tr>\n",
       "    <tr>\n",
       "      <th>4</th>\n",
       "      <td>5</td>\n",
       "      <td>원피스</td>\n",
       "      <td>50000807</td>\n",
       "    </tr>\n",
       "    <tr>\n",
       "      <th>5</th>\n",
       "      <td>6</td>\n",
       "      <td>니트/스웨터</td>\n",
       "      <td>50000805</td>\n",
       "    </tr>\n",
       "    <tr>\n",
       "      <th>6</th>\n",
       "      <td>7</td>\n",
       "      <td>바지</td>\n",
       "      <td>50000810</td>\n",
       "    </tr>\n",
       "    <tr>\n",
       "      <th>7</th>\n",
       "      <td>8</td>\n",
       "      <td>재킷</td>\n",
       "      <td>50000815</td>\n",
       "    </tr>\n",
       "    <tr>\n",
       "      <th>8</th>\n",
       "      <td>9</td>\n",
       "      <td>티셔츠</td>\n",
       "      <td>50000803</td>\n",
       "    </tr>\n",
       "    <tr>\n",
       "      <th>9</th>\n",
       "      <td>10</td>\n",
       "      <td>바지</td>\n",
       "      <td>50000836</td>\n",
       "    </tr>\n",
       "  </tbody>\n",
       "</table>\n",
       "</div>"
      ],
      "text/plain": [
       "   rank keyword    linkId\n",
       "0     1      점퍼  50000814\n",
       "1     2      점퍼  50000837\n",
       "2     3      코트  50000813\n",
       "3     4     티셔츠  50000830\n",
       "4     5     원피스  50000807\n",
       "5     6  니트/스웨터  50000805\n",
       "6     7      바지  50000810\n",
       "7     8      재킷  50000815\n",
       "8     9     티셔츠  50000803\n",
       "9    10      바지  50000836"
      ]
     },
     "execution_count": 293,
     "metadata": {},
     "output_type": "execute_result"
    }
   ],
   "source": [
    "df = pd.DataFrame(data[0]['ranks'])\n",
    "df"
   ]
  },
  {
   "cell_type": "markdown",
   "metadata": {
    "id": "N3NtfdJNMWM6",
    "slideshow": {
     "slide_type": "slide"
    }
   },
   "source": [
    "### 다음 주식 일자별 주가 데이터 크롤링 연습"
   ]
  },
  {
   "cell_type": "code",
   "execution_count": 121,
   "metadata": {
    "ExecuteTime": {
     "end_time": "2021-09-27T04:44:39.616007Z",
     "start_time": "2021-09-27T04:44:39.527153Z"
    },
    "id": "9txT7yVwMehO"
   },
   "outputs": [],
   "source": []
  },
  {
   "cell_type": "markdown",
   "metadata": {},
   "source": [
    "## 파파고 API"
   ]
  },
  {
   "cell_type": "code",
   "execution_count": 142,
   "metadata": {
    "ExecuteTime": {
     "end_time": "2021-09-27T06:28:22.848595Z",
     "start_time": "2021-09-27T06:28:22.843144Z"
    }
   },
   "outputs": [],
   "source": []
  },
  {
   "cell_type": "code",
   "execution_count": 143,
   "metadata": {
    "ExecuteTime": {
     "end_time": "2021-09-27T06:29:01.713731Z",
     "start_time": "2021-09-27T06:28:35.496861Z"
    }
   },
   "outputs": [
    {
     "name": "stdout",
     "output_type": "stream",
     "text": [
      "번역이 필요한 한국어를 입력하세요 : 강의시작하겠습니다 카메라를 켜주시고 참석바랍니다.\n",
      "Let's begin the lecture. Please turn on the camera and attend.\n"
     ]
    }
   ],
   "source": [
    "papago()"
   ]
  },
  {
   "cell_type": "markdown",
   "metadata": {},
   "source": [
    "## 공공데이터 API"
   ]
  },
  {
   "cell_type": "code",
   "execution_count": null,
   "metadata": {
    "ExecuteTime": {
     "end_time": "2021-09-27T06:36:42.325807Z",
     "start_time": "2021-09-27T06:36:42.185832Z"
    }
   },
   "outputs": [],
   "source": []
  },
  {
   "cell_type": "code",
   "execution_count": 147,
   "metadata": {
    "ExecuteTime": {
     "end_time": "2021-09-27T06:37:15.172214Z",
     "start_time": "2021-09-27T06:37:15.168369Z"
    }
   },
   "outputs": [],
   "source": []
  },
  {
   "cell_type": "code",
   "execution_count": 160,
   "metadata": {
    "ExecuteTime": {
     "end_time": "2021-09-27T06:40:57.325082Z",
     "start_time": "2021-09-27T06:40:57.320112Z"
    }
   },
   "outputs": [
    {
     "name": "stdout",
     "output_type": "stream",
     "text": [
      "서울특별시 중구 퇴계로36길 10(필동2가 80-2)\n",
      "서울특별시 중구 퇴계로34길 28(필동2가 84-1)\n",
      "서울특별시 중구 퇴계로34길 28(필동2가 84-1)\n",
      "서울특별시 중구 소월로 91(남대문로5가 471)\n",
      "서울특별시 중구 장충동2가 산14-21\n",
      "서울특별시 중구 남산공원길 125-72(예장동 산5-6)\n",
      "서울특별시 중구 예장동 8-1\n",
      "서울특별시 중구 예장동 8-1\n",
      "서울특별시 중구 필동로1길 30(장충동2가 192-5)\n",
      "서울특별시 중구 장충단로 72(장충동2가 201-6)\n"
     ]
    }
   ],
   "source": []
  }
 ],
 "metadata": {
  "colab": {
   "authorship_tag": "ABX9TyMM9bcGMQdkO/nwIX0kAuhm",
   "collapsed_sections": [],
   "name": "08_crawler.ipynb",
   "provenance": []
  },
  "kernelspec": {
   "display_name": "Python 3",
   "language": "python",
   "name": "python3"
  },
  "language_info": {
   "codemirror_mode": {
    "name": "ipython",
    "version": 3
   },
   "file_extension": ".py",
   "mimetype": "text/x-python",
   "name": "python",
   "nbconvert_exporter": "python",
   "pygments_lexer": "ipython3",
   "version": "3.8.8"
  },
  "toc": {
   "base_numbering": 1,
   "nav_menu": {},
   "number_sections": true,
   "sideBar": true,
   "skip_h1_title": true,
   "title_cell": "Table of Contents",
   "title_sidebar": "Contents",
   "toc_cell": false,
   "toc_position": {},
   "toc_section_display": true,
   "toc_window_display": true
  },
  "varInspector": {
   "cols": {
    "lenName": 16,
    "lenType": 16,
    "lenVar": 40
   },
   "kernels_config": {
    "python": {
     "delete_cmd_postfix": "",
     "delete_cmd_prefix": "del ",
     "library": "var_list.py",
     "varRefreshCmd": "print(var_dic_list())"
    },
    "r": {
     "delete_cmd_postfix": ") ",
     "delete_cmd_prefix": "rm(",
     "library": "var_list.r",
     "varRefreshCmd": "cat(var_dic_list()) "
    }
   },
   "types_to_exclude": [
    "module",
    "function",
    "builtin_function_or_method",
    "instance",
    "_Feature"
   ],
   "window_display": false
  }
 },
 "nbformat": 4,
 "nbformat_minor": 1
}
